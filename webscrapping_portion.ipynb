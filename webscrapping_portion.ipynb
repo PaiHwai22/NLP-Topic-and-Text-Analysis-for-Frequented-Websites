{
 "cells": [
  {
   "cell_type": "markdown",
   "id": "19edfd26-9a8c-4921-990e-613ea098978d",
   "metadata": {
    "pycharm": {
     "name": "#%% md\n"
    }
   },
   "source": [
    "# Webscrapping"
   ]
  },
  {
   "cell_type": "code",
   "execution_count": 78,
   "id": "ae5e83bc-be56-4e50-824f-5051292ffb1b",
   "metadata": {
    "pycharm": {
     "name": "#%%\n"
    }
   },
   "outputs": [],
   "source": [
    "# importing libraries\n",
    "import requests\n",
    "from bs4 import BeautifulSoup\n",
    "\n",
    "import nltk\n",
    "from nltk.corpus import stopwords\n",
    "from collections import Counter\n",
    "\n",
    "import pandas as pd\n",
    "import numpy as np"
   ]
  },
  {
   "cell_type": "code",
   "execution_count": 79,
   "id": "dfc56ea1",
   "metadata": {
    "pycharm": {
     "name": "#%%\n"
    }
   },
   "outputs": [],
   "source": [
    "# reuters\n",
    "rpage0 = 'https://www.reuters.com/world/asia-pacific/plane-carrying-72-people-crashes-nepal-some-bodies-recovered-official-state-tv-2023-01-15/'\n",
    "rpage1 = 'https://www.reuters.com/world/europe/death-toll-russian-strike-dnipro-apartment-building-rises-14-governor-2023-01-15/'\n",
    "rpage2 = 'https://www.reuters.com/business/environment/one-year-after-volcanic-blast-many-tongas-reefs-lay-silent-2023-01-15/'\n",
    "rpage3 = 'https://www.reuters.com/world/asia-pacific/china-hong-kong-resume-high-speed-rail-link-after-3-years-covid-curbs-2023-01-15/'\n",
    "rpage4 = 'https://www.reuters.com/breakingviews/tim-cooks-pay-re-enters-earths-atmosphere-2023-01-13/'\n",
    "rpage4 = 'https://www.reuters.com/world/uk/strikes-britain-set-intensify-teacher-ballot-results-due-2023-01-15/'\n",
    "rpage5 = 'https://www.reuters.com/world/us/biden-declares-emergency-california-due-winter-storms-2023-01-15/'\n",
    "rpage6 = 'https://www.reuters.com/world/us/president-biden-give-sermon-martin-luther-kings-church-atlanta-2023-01-15/'\n",
    "rpage7 = 'https://www.reuters.com/world/us/biden-documents-bungle-seen-political-black-eye-before-2024-launch-2023-01-14/'\n",
    "rpage8 = 'https://www.reuters.com/business/finance/wall-street-banks-stockpile-funds-possible-recession-show-resilience-2023-01-13/'\n",
    "rpage9 = 'https://www.reuters.com/technology/bitcoin-rises-56-21044-2023-01-14/'\n",
    "\n",
    "reutersList =[rpage0,rpage1,rpage2,rpage3,rpage4,rpage5,rpage6,rpage7,rpage8,rpage9]\n"
   ]
  },
  {
   "cell_type": "code",
   "execution_count": 80,
   "id": "006ee1e5",
   "metadata": {
    "pycharm": {
     "name": "#%%\n"
    }
   },
   "outputs": [],
   "source": [
    "# IBM\n",
    "ipage0 = 'https://www.ibm.com/investor/articles/ibm-transfers-a-portion-of-us-pension-obligations'\n",
    "ipage1 = 'https://www.ibm.com/investor/articles/ibm-provides-historical-software-segment-data-to-reflect-announced-divestiture'\n",
    "ipage2 = 'https://www.ibm.com/investor/articles/ibm-provides-historical-data-in-preparation-for-reporting-changes'\n",
    "ipage3 = 'https://www.ibm.com/investor/articles/ibm-provides-additional-information-on-4q21-discontinued-operations'\n",
    "ipage4 = 'https://www.ibm.com/investor/articles/ibm-completes-separation-of-kyndryl'\n",
    "ipage4 = 'https://www.ibm.com/investor/articles/ibm-to-update-management-system-and-reporting-segments'\n",
    "ipage5 = 'https://www.ibm.com/investor/articles/ibm-announces-kyndryl-form-10-filing-related-to-separation'\n",
    "ipage6 = 'https://www.ibm.com/investor/articles/strategic-update-on-ibm-global-financing'\n",
    "ipage7 = 'https://www.ibm.com/investor/articles/ibm-provides-historical-data-to-reflect-offering-realignment'\n",
    "ipage8 = 'https://www.ibm.com/investor/articles/ibm-provides-historical-data-to-reflect-offering-realignment'\n",
    "ipage9 = 'https://www.ibm.com/investor/articles/ibm-provides-historical-data-to-reflect-offering-realignment'\n",
    "ibmList = [ipage0,ipage1,ipage2,ipage3,ipage4,ipage5,ipage6,ipage7,ipage8,ipage9]"
   ]
  },
  {
   "cell_type": "code",
   "execution_count": 81,
   "id": "26a4eb50",
   "metadata": {
    "pycharm": {
     "name": "#%%\n"
    }
   },
   "outputs": [],
   "source": [
    "# Towards Data Science\n",
    "tpage0 = 'https://towardsdatascience.com/a-data-driven-method-to-reduce-employee-survey-length-8aecedcf5df9?source=collection_home---------0----------------------------'\n",
    "tpage1 = 'https://towardsdatascience.com/using-fourier-transform-of-vector-representations-derived-from-bert-embeddings-for-semantic-9d91a7d4839c?source=collection_home---------1----------------------------'\n",
    "tpage2 = 'https://towardsdatascience.com/defining-interpretable-features-ebd7ed94897?source=collection_home---------2----------------------------'\n",
    "tpage3 = 'https://towardsdatascience.com/julia-vs-librosa-vs-torchaudio-for-audio-data-processing-47aad525526e?source=collection_home---------3----------------------------'\n",
    "tpage4 = 'https://towardsdatascience.com/specialized-llms-chatgpt-lamda-galactica-codex-sparrow-and-more-ccccdd9f666f?source=collection_home---------4----------------------------'\n",
    "tpage4 = 'https://towardsdatascience.com/analysing-nyc-yellow-taxi-trip-records-with-interpretml-d4421bff32ac?source=collection_home---------5----------------------------'\n",
    "tpage5 = 'https://towardsdatascience.com/will-a-training-break-ruin-my-marathon-465e94cb949e?source=collection_home---------6----------------------------'\n",
    "tpage6 = 'https://towardsdatascience.com/solve-a-mystery-box-like-a-data-scientist-f9ee9570ba52?source=collection_home---------7----------------------------'\n",
    "tpage7 = 'https://towardsdatascience.com/analyzing-chess960-data-da5c8cdb01de?source=collection_home---------8----------------------------'\n",
    "tpage8 = 'https://towardsdatascience.com/a-framework-for-analyzing-churn-370d2283b75c?source=collection_home---------9----------------------------'\n",
    "tpage9 = 'https://towardsdatascience.com/5-benefits-of-data-sharing-5ad8efde3385?source=collection_home---------10----------------------------'\n",
    "tdsList = [tpage0, tpage1, tpage2, tpage3, tpage4, tpage5, tpage6, tpage7, tpage8, tpage9]"
   ]
  },
  {
   "cell_type": "markdown",
   "id": "8bb68e74",
   "metadata": {
    "pycharm": {
     "name": "#%% md\n"
    }
   },
   "source": [
    "### Data Collection\n",
    "We collected data from 3 different websites and 10 articles from each of them. \n",
    "The articles are then stored in it's representive named lists and extended into an empty list. "
   ]
  },
  {
   "cell_type": "code",
   "execution_count": 82,
   "id": "c00d1fb0",
   "metadata": {
    "pycharm": {
     "name": "#%%\n"
    }
   },
   "outputs": [
    {
     "name": "stdout",
     "output_type": "stream",
     "text": [
      "['https://www.reuters.com/world/asia-pacific/plane-carrying-72-people-crashes-nepal-some-bodies-recovered-official-state-tv-2023-01-15/', 'https://www.reuters.com/world/europe/death-toll-russian-strike-dnipro-apartment-building-rises-14-governor-2023-01-15/', 'https://www.reuters.com/business/environment/one-year-after-volcanic-blast-many-tongas-reefs-lay-silent-2023-01-15/', 'https://www.reuters.com/world/asia-pacific/china-hong-kong-resume-high-speed-rail-link-after-3-years-covid-curbs-2023-01-15/', 'https://www.reuters.com/world/uk/strikes-britain-set-intensify-teacher-ballot-results-due-2023-01-15/', 'https://www.reuters.com/world/us/biden-declares-emergency-california-due-winter-storms-2023-01-15/', 'https://www.reuters.com/world/us/president-biden-give-sermon-martin-luther-kings-church-atlanta-2023-01-15/', 'https://www.reuters.com/world/us/biden-documents-bungle-seen-political-black-eye-before-2024-launch-2023-01-14/', 'https://www.reuters.com/business/finance/wall-street-banks-stockpile-funds-possible-recession-show-resilience-2023-01-13/', 'https://www.reuters.com/technology/bitcoin-rises-56-21044-2023-01-14/', 'https://www.ibm.com/investor/articles/ibm-transfers-a-portion-of-us-pension-obligations', 'https://www.ibm.com/investor/articles/ibm-provides-historical-software-segment-data-to-reflect-announced-divestiture', 'https://www.ibm.com/investor/articles/ibm-provides-historical-data-in-preparation-for-reporting-changes', 'https://www.ibm.com/investor/articles/ibm-provides-additional-information-on-4q21-discontinued-operations', 'https://www.ibm.com/investor/articles/ibm-to-update-management-system-and-reporting-segments', 'https://www.ibm.com/investor/articles/ibm-announces-kyndryl-form-10-filing-related-to-separation', 'https://www.ibm.com/investor/articles/strategic-update-on-ibm-global-financing', 'https://www.ibm.com/investor/articles/ibm-provides-historical-data-to-reflect-offering-realignment', 'https://www.ibm.com/investor/articles/ibm-provides-historical-data-to-reflect-offering-realignment', 'https://www.ibm.com/investor/articles/ibm-provides-historical-data-to-reflect-offering-realignment', 'https://towardsdatascience.com/a-data-driven-method-to-reduce-employee-survey-length-8aecedcf5df9?source=collection_home---------0----------------------------', 'https://towardsdatascience.com/using-fourier-transform-of-vector-representations-derived-from-bert-embeddings-for-semantic-9d91a7d4839c?source=collection_home---------1----------------------------', 'https://towardsdatascience.com/defining-interpretable-features-ebd7ed94897?source=collection_home---------2----------------------------', 'https://towardsdatascience.com/julia-vs-librosa-vs-torchaudio-for-audio-data-processing-47aad525526e?source=collection_home---------3----------------------------', 'https://towardsdatascience.com/analysing-nyc-yellow-taxi-trip-records-with-interpretml-d4421bff32ac?source=collection_home---------5----------------------------', 'https://towardsdatascience.com/will-a-training-break-ruin-my-marathon-465e94cb949e?source=collection_home---------6----------------------------', 'https://towardsdatascience.com/solve-a-mystery-box-like-a-data-scientist-f9ee9570ba52?source=collection_home---------7----------------------------', 'https://towardsdatascience.com/analyzing-chess960-data-da5c8cdb01de?source=collection_home---------8----------------------------', 'https://towardsdatascience.com/a-framework-for-analyzing-churn-370d2283b75c?source=collection_home---------9----------------------------', 'https://towardsdatascience.com/5-benefits-of-data-sharing-5ad8efde3385?source=collection_home---------10----------------------------']\n"
     ]
    }
   ],
   "source": [
    "# add website lists to an empty list\n",
    "allPageList = []\n",
    "allPageList.extend(reutersList + ibmList + tdsList)\n",
    "\n",
    "print(allPageList)"
   ]
  },
  {
   "cell_type": "code",
   "execution_count": 83,
   "id": "20d7acb1",
   "metadata": {
    "pycharm": {
     "name": "#%%\n"
    }
   },
   "outputs": [],
   "source": [
    "# Main Program\n",
    "collection = [[\"title\", \"body text\", \"url\"]]\n",
    "\n",
    "for i in allPageList:\n",
    "    page = requests.get(f\"{i}\")\n",
    "    soup = BeautifulSoup(page.text, \"html.parser\") \n",
    "    title = soup.find(\"h1\").text # get title\n",
    "    all_text = soup.find(\"p\").text # get body\n",
    "    urls = str(f\"{i}\") # also get the urls \n",
    "        \n",
    "\n",
    "    section = [title, all_text, urls]\n",
    "    collection.append(section)\n",
    "df = pd.DataFrame(collection[1:], columns=collection[0])\n",
    "    \n"
   ]
  },
  {
   "cell_type": "code",
   "execution_count": 84,
   "id": "79116736",
   "metadata": {
    "pycharm": {
     "name": "#%%\n"
    }
   },
   "outputs": [],
   "source": [
    "# copy dataframe into csv file\n",
    "df.to_csv(\"research_paper.csv\")"
   ]
  },
  {
   "cell_type": "markdown",
   "id": "a54b4daa",
   "metadata": {
    "pycharm": {
     "name": "#%% md\n"
    }
   },
   "source": [
    "## Data Summary"
   ]
  },
  {
   "cell_type": "markdown",
   "id": "58a4c2f5",
   "metadata": {
    "pycharm": {
     "name": "#%% md\n"
    }
   },
   "source": [
    "For the main webscrapping program we use three main libaries: Requests, BeautifulSoup and pandas. \n",
    "\n",
    "We used html.parser instead of lxml because when we inspect the websites we can see that they're all html formatted. When we scrap with html parser, it is also cleaner when extracting the title and body texts. \n",
    "We chose an appropriate library to parse and extra the html data, BeautifulSoup. The url is also stored in the data frame because it will be useful to us later on in pre processing for summerization. The dataframe is created using with pandas, and indexing collections list. "
   ]
  },
  {
   "cell_type": "code",
   "execution_count": 85,
   "id": "527ee6b9",
   "metadata": {
    "pycharm": {
     "name": "#%%\n"
    }
   },
   "outputs": [
    {
     "data": {
      "text/html": [
       "<div>\n",
       "<style scoped>\n",
       "    .dataframe tbody tr th:only-of-type {\n",
       "        vertical-align: middle;\n",
       "    }\n",
       "\n",
       "    .dataframe tbody tr th {\n",
       "        vertical-align: top;\n",
       "    }\n",
       "\n",
       "    .dataframe thead th {\n",
       "        text-align: right;\n",
       "    }\n",
       "</style>\n",
       "<table border=\"1\" class=\"dataframe\">\n",
       "  <thead>\n",
       "    <tr style=\"text-align: right;\">\n",
       "      <th></th>\n",
       "      <th>title</th>\n",
       "      <th>body text</th>\n",
       "      <th>url</th>\n",
       "    </tr>\n",
       "  </thead>\n",
       "  <tbody>\n",
       "    <tr>\n",
       "      <th>0</th>\n",
       "      <td>At least 68 killed in Nepal's worst air crash ...</td>\n",
       "      <td>KATHMANDU, Jan 15 (Reuters) - At least 68 peop...</td>\n",
       "      <td>https://www.reuters.com/world/asia-pacific/pla...</td>\n",
       "    </tr>\n",
       "    <tr>\n",
       "      <th>1</th>\n",
       "      <td>Death toll in Russian missile attack on Dnipro...</td>\n",
       "      <td>[1/11] Emergency personnel retrieve a dead bod...</td>\n",
       "      <td>https://www.reuters.com/world/europe/death-tol...</td>\n",
       "    </tr>\n",
       "    <tr>\n",
       "      <th>2</th>\n",
       "      <td>One year after volcanic blast, many of Tonga's...</td>\n",
       "      <td>[1/4] Volcanic ash blankets the western side o...</td>\n",
       "      <td>https://www.reuters.com/business/environment/o...</td>\n",
       "    </tr>\n",
       "    <tr>\n",
       "      <th>3</th>\n",
       "      <td>China, Hong Kong resume high-speed rail link a...</td>\n",
       "      <td>[1/5] A Chinese police officer stands guard at...</td>\n",
       "      <td>https://www.reuters.com/world/asia-pacific/chi...</td>\n",
       "    </tr>\n",
       "    <tr>\n",
       "      <th>4</th>\n",
       "      <td>Strikes in Britain set to intensify as teacher...</td>\n",
       "      <td>[1/2] Rail workers that are members of the ASL...</td>\n",
       "      <td>https://www.reuters.com/world/uk/strikes-brita...</td>\n",
       "    </tr>\n",
       "  </tbody>\n",
       "</table>\n",
       "</div>"
      ],
      "text/plain": [
       "                                               title  \\\n",
       "0  At least 68 killed in Nepal's worst air crash ...   \n",
       "1  Death toll in Russian missile attack on Dnipro...   \n",
       "2  One year after volcanic blast, many of Tonga's...   \n",
       "3  China, Hong Kong resume high-speed rail link a...   \n",
       "4  Strikes in Britain set to intensify as teacher...   \n",
       "\n",
       "                                           body text  \\\n",
       "0  KATHMANDU, Jan 15 (Reuters) - At least 68 peop...   \n",
       "1  [1/11] Emergency personnel retrieve a dead bod...   \n",
       "2  [1/4] Volcanic ash blankets the western side o...   \n",
       "3  [1/5] A Chinese police officer stands guard at...   \n",
       "4  [1/2] Rail workers that are members of the ASL...   \n",
       "\n",
       "                                                 url  \n",
       "0  https://www.reuters.com/world/asia-pacific/pla...  \n",
       "1  https://www.reuters.com/world/europe/death-tol...  \n",
       "2  https://www.reuters.com/business/environment/o...  \n",
       "3  https://www.reuters.com/world/asia-pacific/chi...  \n",
       "4  https://www.reuters.com/world/uk/strikes-brita...  "
      ]
     },
     "execution_count": 85,
     "metadata": {},
     "output_type": "execute_result"
    }
   ],
   "source": [
    "df.head()"
   ]
  },
  {
   "cell_type": "code",
   "execution_count": 86,
   "id": "081e8960",
   "metadata": {
    "pycharm": {
     "name": "#%%\n"
    }
   },
   "outputs": [
    {
     "data": {
      "text/html": [
       "<div>\n",
       "<style scoped>\n",
       "    .dataframe tbody tr th:only-of-type {\n",
       "        vertical-align: middle;\n",
       "    }\n",
       "\n",
       "    .dataframe tbody tr th {\n",
       "        vertical-align: top;\n",
       "    }\n",
       "\n",
       "    .dataframe thead th {\n",
       "        text-align: right;\n",
       "    }\n",
       "</style>\n",
       "<table border=\"1\" class=\"dataframe\">\n",
       "  <thead>\n",
       "    <tr style=\"text-align: right;\">\n",
       "      <th></th>\n",
       "      <th>title</th>\n",
       "      <th>body text</th>\n",
       "      <th>url</th>\n",
       "    </tr>\n",
       "  </thead>\n",
       "  <tbody>\n",
       "    <tr>\n",
       "      <th>25</th>\n",
       "      <td>Will a Training Break Ruin my Marathon?</td>\n",
       "      <td>Sign up</td>\n",
       "      <td>https://towardsdatascience.com/will-a-training...</td>\n",
       "    </tr>\n",
       "    <tr>\n",
       "      <th>26</th>\n",
       "      <td>Solve a mystery box like a data scientist</td>\n",
       "      <td>Sign up</td>\n",
       "      <td>https://towardsdatascience.com/solve-a-mystery...</td>\n",
       "    </tr>\n",
       "    <tr>\n",
       "      <th>27</th>\n",
       "      <td>Analyzing Chess960 Data</td>\n",
       "      <td>Sign up</td>\n",
       "      <td>https://towardsdatascience.com/analyzing-chess...</td>\n",
       "    </tr>\n",
       "    <tr>\n",
       "      <th>28</th>\n",
       "      <td>A Framework for Analyzing Churn</td>\n",
       "      <td>Sign up</td>\n",
       "      <td>https://towardsdatascience.com/a-framework-for...</td>\n",
       "    </tr>\n",
       "    <tr>\n",
       "      <th>29</th>\n",
       "      <td>5 Benefits of Data Sharing</td>\n",
       "      <td>Sign up</td>\n",
       "      <td>https://towardsdatascience.com/5-benefits-of-d...</td>\n",
       "    </tr>\n",
       "  </tbody>\n",
       "</table>\n",
       "</div>"
      ],
      "text/plain": [
       "                                        title body text  \\\n",
       "25    Will a Training Break Ruin my Marathon?   Sign up   \n",
       "26  Solve a mystery box like a data scientist   Sign up   \n",
       "27                    Analyzing Chess960 Data   Sign up   \n",
       "28            A Framework for Analyzing Churn   Sign up   \n",
       "29                 5 Benefits of Data Sharing   Sign up   \n",
       "\n",
       "                                                  url  \n",
       "25  https://towardsdatascience.com/will-a-training...  \n",
       "26  https://towardsdatascience.com/solve-a-mystery...  \n",
       "27  https://towardsdatascience.com/analyzing-chess...  \n",
       "28  https://towardsdatascience.com/a-framework-for...  \n",
       "29  https://towardsdatascience.com/5-benefits-of-d...  "
      ]
     },
     "execution_count": 86,
     "metadata": {},
     "output_type": "execute_result"
    }
   ],
   "source": [
    "df.tail()"
   ]
  },
  {
   "cell_type": "code",
   "execution_count": 87,
   "id": "43d28f97",
   "metadata": {
    "pycharm": {
     "name": "#%%\n"
    }
   },
   "outputs": [
    {
     "data": {
      "text/html": [
       "<div>\n",
       "<style scoped>\n",
       "    .dataframe tbody tr th:only-of-type {\n",
       "        vertical-align: middle;\n",
       "    }\n",
       "\n",
       "    .dataframe tbody tr th {\n",
       "        vertical-align: top;\n",
       "    }\n",
       "\n",
       "    .dataframe thead th {\n",
       "        text-align: right;\n",
       "    }\n",
       "</style>\n",
       "<table border=\"1\" class=\"dataframe\">\n",
       "  <thead>\n",
       "    <tr style=\"text-align: right;\">\n",
       "      <th></th>\n",
       "      <th>Unnamed: 0</th>\n",
       "      <th>title</th>\n",
       "      <th>body text</th>\n",
       "      <th>url</th>\n",
       "    </tr>\n",
       "  </thead>\n",
       "  <tbody>\n",
       "    <tr>\n",
       "      <th>0</th>\n",
       "      <td>0</td>\n",
       "      <td>At least 68 killed in Nepal's worst air crash ...</td>\n",
       "      <td>KATHMANDU, Jan 15 (Reuters) - At least 68 peop...</td>\n",
       "      <td>https://www.reuters.com/world/asia-pacific/pla...</td>\n",
       "    </tr>\n",
       "    <tr>\n",
       "      <th>1</th>\n",
       "      <td>1</td>\n",
       "      <td>Death toll in Russian missile attack on Dnipro...</td>\n",
       "      <td>[1/11] Emergency personnel retrieve a dead bod...</td>\n",
       "      <td>https://www.reuters.com/world/europe/death-tol...</td>\n",
       "    </tr>\n",
       "    <tr>\n",
       "      <th>2</th>\n",
       "      <td>2</td>\n",
       "      <td>One year after volcanic blast, many of Tonga's...</td>\n",
       "      <td>[1/4] Volcanic ash blankets the western side o...</td>\n",
       "      <td>https://www.reuters.com/business/environment/o...</td>\n",
       "    </tr>\n",
       "    <tr>\n",
       "      <th>3</th>\n",
       "      <td>3</td>\n",
       "      <td>China, Hong Kong resume high-speed rail link a...</td>\n",
       "      <td>[1/5] A Chinese police officer stands guard at...</td>\n",
       "      <td>https://www.reuters.com/world/asia-pacific/chi...</td>\n",
       "    </tr>\n",
       "    <tr>\n",
       "      <th>4</th>\n",
       "      <td>4</td>\n",
       "      <td>Strikes in Britain set to intensify as teacher...</td>\n",
       "      <td>[1/2] Rail workers that are members of the ASL...</td>\n",
       "      <td>https://www.reuters.com/world/uk/strikes-brita...</td>\n",
       "    </tr>\n",
       "    <tr>\n",
       "      <th>5</th>\n",
       "      <td>5</td>\n",
       "      <td>Biden declares emergencies for California stor...</td>\n",
       "      <td>Jan 14 (Reuters) - U.S. President Joe Biden ap...</td>\n",
       "      <td>https://www.reuters.com/world/us/biden-declare...</td>\n",
       "    </tr>\n",
       "    <tr>\n",
       "      <th>6</th>\n",
       "      <td>6</td>\n",
       "      <td>President Biden to give sermon at Martin Luthe...</td>\n",
       "      <td>WILMINGTON, Del., Jan 15 (Reuters) - President...</td>\n",
       "      <td>https://www.reuters.com/world/us/president-bid...</td>\n",
       "    </tr>\n",
       "    <tr>\n",
       "      <th>7</th>\n",
       "      <td>7</td>\n",
       "      <td>Biden documents bungle seen as political black...</td>\n",
       "      <td>WASHINGTON, Jan 14 (Reuters) - This week's rev...</td>\n",
       "      <td>https://www.reuters.com/world/us/biden-documen...</td>\n",
       "    </tr>\n",
       "    <tr>\n",
       "      <th>8</th>\n",
       "      <td>8</td>\n",
       "      <td>Wall St banks stockpile funds, see uncertain o...</td>\n",
       "      <td>NEW YORK, Jan 13 (Reuters) - Wall Street's big...</td>\n",
       "      <td>https://www.reuters.com/business/finance/wall-...</td>\n",
       "    </tr>\n",
       "    <tr>\n",
       "      <th>9</th>\n",
       "      <td>9</td>\n",
       "      <td>Bitcoin rises 5.6% to $21,044</td>\n",
       "      <td>Jan 14 (Reuters) - Bitcoin rose 5.58% to $21,0...</td>\n",
       "      <td>https://www.reuters.com/technology/bitcoin-ris...</td>\n",
       "    </tr>\n",
       "    <tr>\n",
       "      <th>10</th>\n",
       "      <td>10</td>\n",
       "      <td>\\n                      IBM Transfers a Portio...</td>\n",
       "      <td>\\n      By\\n                        Investor R...</td>\n",
       "      <td>https://www.ibm.com/investor/articles/ibm-tran...</td>\n",
       "    </tr>\n",
       "    <tr>\n",
       "      <th>11</th>\n",
       "      <td>11</td>\n",
       "      <td>\\n                      IBM Provides Historica...</td>\n",
       "      <td>\\n      By\\n                        Investor R...</td>\n",
       "      <td>https://www.ibm.com/investor/articles/ibm-prov...</td>\n",
       "    </tr>\n",
       "    <tr>\n",
       "      <th>12</th>\n",
       "      <td>12</td>\n",
       "      <td>\\n                      IBM Provides Historica...</td>\n",
       "      <td>\\n      By\\n                        Investor R...</td>\n",
       "      <td>https://www.ibm.com/investor/articles/ibm-prov...</td>\n",
       "    </tr>\n",
       "    <tr>\n",
       "      <th>13</th>\n",
       "      <td>13</td>\n",
       "      <td>\\n                      IBM Provides Additiona...</td>\n",
       "      <td>\\n      By\\n                        Investor R...</td>\n",
       "      <td>https://www.ibm.com/investor/articles/ibm-prov...</td>\n",
       "    </tr>\n",
       "    <tr>\n",
       "      <th>14</th>\n",
       "      <td>14</td>\n",
       "      <td>\\n                      IBM to Update Manageme...</td>\n",
       "      <td>\\n      By\\n                        Investor R...</td>\n",
       "      <td>https://www.ibm.com/investor/articles/ibm-to-u...</td>\n",
       "    </tr>\n",
       "    <tr>\n",
       "      <th>15</th>\n",
       "      <td>15</td>\n",
       "      <td>\\n                      IBM Announces Kyndryl ...</td>\n",
       "      <td>\\n      By\\n                        Investor R...</td>\n",
       "      <td>https://www.ibm.com/investor/articles/ibm-anno...</td>\n",
       "    </tr>\n",
       "    <tr>\n",
       "      <th>16</th>\n",
       "      <td>16</td>\n",
       "      <td>\\n                      Strategic Update on IB...</td>\n",
       "      <td>\\n      By\\n                        Investor R...</td>\n",
       "      <td>https://www.ibm.com/investor/articles/strategi...</td>\n",
       "    </tr>\n",
       "    <tr>\n",
       "      <th>17</th>\n",
       "      <td>17</td>\n",
       "      <td>\\n                      IBM Provides Historica...</td>\n",
       "      <td>\\n      By\\n                        Investor R...</td>\n",
       "      <td>https://www.ibm.com/investor/articles/ibm-prov...</td>\n",
       "    </tr>\n",
       "    <tr>\n",
       "      <th>18</th>\n",
       "      <td>18</td>\n",
       "      <td>\\n                      IBM Provides Historica...</td>\n",
       "      <td>\\n      By\\n                        Investor R...</td>\n",
       "      <td>https://www.ibm.com/investor/articles/ibm-prov...</td>\n",
       "    </tr>\n",
       "    <tr>\n",
       "      <th>19</th>\n",
       "      <td>19</td>\n",
       "      <td>\\n                      IBM Provides Historica...</td>\n",
       "      <td>\\n      By\\n                        Investor R...</td>\n",
       "      <td>https://www.ibm.com/investor/articles/ibm-prov...</td>\n",
       "    </tr>\n",
       "    <tr>\n",
       "      <th>20</th>\n",
       "      <td>20</td>\n",
       "      <td>A Data-Driven Method to Reduce Employee Survey...</td>\n",
       "      <td>Sign up</td>\n",
       "      <td>https://towardsdatascience.com/a-data-driven-m...</td>\n",
       "    </tr>\n",
       "    <tr>\n",
       "      <th>21</th>\n",
       "      <td>21</td>\n",
       "      <td>Using Fourier Transform of Vector Representati...</td>\n",
       "      <td>Sign up</td>\n",
       "      <td>https://towardsdatascience.com/using-fourier-t...</td>\n",
       "    </tr>\n",
       "    <tr>\n",
       "      <th>22</th>\n",
       "      <td>22</td>\n",
       "      <td>Defining Interpretable Features</td>\n",
       "      <td>Sign up</td>\n",
       "      <td>https://towardsdatascience.com/defining-interp...</td>\n",
       "    </tr>\n",
       "    <tr>\n",
       "      <th>23</th>\n",
       "      <td>23</td>\n",
       "      <td>Julia vs Librosa vs TorchAudio for Audio Data ...</td>\n",
       "      <td>Sign up</td>\n",
       "      <td>https://towardsdatascience.com/julia-vs-libros...</td>\n",
       "    </tr>\n",
       "    <tr>\n",
       "      <th>24</th>\n",
       "      <td>24</td>\n",
       "      <td>Analysing NYC Yellow Taxi Trip Records with In...</td>\n",
       "      <td>Sign up</td>\n",
       "      <td>https://towardsdatascience.com/analysing-nyc-y...</td>\n",
       "    </tr>\n",
       "    <tr>\n",
       "      <th>25</th>\n",
       "      <td>25</td>\n",
       "      <td>Will a Training Break Ruin my Marathon?</td>\n",
       "      <td>Sign up</td>\n",
       "      <td>https://towardsdatascience.com/will-a-training...</td>\n",
       "    </tr>\n",
       "    <tr>\n",
       "      <th>26</th>\n",
       "      <td>26</td>\n",
       "      <td>Solve a mystery box like a data scientist</td>\n",
       "      <td>Sign up</td>\n",
       "      <td>https://towardsdatascience.com/solve-a-mystery...</td>\n",
       "    </tr>\n",
       "    <tr>\n",
       "      <th>27</th>\n",
       "      <td>27</td>\n",
       "      <td>Analyzing Chess960 Data</td>\n",
       "      <td>Sign up</td>\n",
       "      <td>https://towardsdatascience.com/analyzing-chess...</td>\n",
       "    </tr>\n",
       "    <tr>\n",
       "      <th>28</th>\n",
       "      <td>28</td>\n",
       "      <td>A Framework for Analyzing Churn</td>\n",
       "      <td>Sign up</td>\n",
       "      <td>https://towardsdatascience.com/a-framework-for...</td>\n",
       "    </tr>\n",
       "    <tr>\n",
       "      <th>29</th>\n",
       "      <td>29</td>\n",
       "      <td>5 Benefits of Data Sharing</td>\n",
       "      <td>Sign up</td>\n",
       "      <td>https://towardsdatascience.com/5-benefits-of-d...</td>\n",
       "    </tr>\n",
       "  </tbody>\n",
       "</table>\n",
       "</div>"
      ],
      "text/plain": [
       "    Unnamed: 0                                              title  \\\n",
       "0            0  At least 68 killed in Nepal's worst air crash ...   \n",
       "1            1  Death toll in Russian missile attack on Dnipro...   \n",
       "2            2  One year after volcanic blast, many of Tonga's...   \n",
       "3            3  China, Hong Kong resume high-speed rail link a...   \n",
       "4            4  Strikes in Britain set to intensify as teacher...   \n",
       "5            5  Biden declares emergencies for California stor...   \n",
       "6            6  President Biden to give sermon at Martin Luthe...   \n",
       "7            7  Biden documents bungle seen as political black...   \n",
       "8            8  Wall St banks stockpile funds, see uncertain o...   \n",
       "9            9                      Bitcoin rises 5.6% to $21,044   \n",
       "10          10  \\n                      IBM Transfers a Portio...   \n",
       "11          11  \\n                      IBM Provides Historica...   \n",
       "12          12  \\n                      IBM Provides Historica...   \n",
       "13          13  \\n                      IBM Provides Additiona...   \n",
       "14          14  \\n                      IBM to Update Manageme...   \n",
       "15          15  \\n                      IBM Announces Kyndryl ...   \n",
       "16          16  \\n                      Strategic Update on IB...   \n",
       "17          17  \\n                      IBM Provides Historica...   \n",
       "18          18  \\n                      IBM Provides Historica...   \n",
       "19          19  \\n                      IBM Provides Historica...   \n",
       "20          20  A Data-Driven Method to Reduce Employee Survey...   \n",
       "21          21  Using Fourier Transform of Vector Representati...   \n",
       "22          22                    Defining Interpretable Features   \n",
       "23          23  Julia vs Librosa vs TorchAudio for Audio Data ...   \n",
       "24          24  Analysing NYC Yellow Taxi Trip Records with In...   \n",
       "25          25            Will a Training Break Ruin my Marathon?   \n",
       "26          26          Solve a mystery box like a data scientist   \n",
       "27          27                            Analyzing Chess960 Data   \n",
       "28          28                    A Framework for Analyzing Churn   \n",
       "29          29                         5 Benefits of Data Sharing   \n",
       "\n",
       "                                            body text  \\\n",
       "0   KATHMANDU, Jan 15 (Reuters) - At least 68 peop...   \n",
       "1   [1/11] Emergency personnel retrieve a dead bod...   \n",
       "2   [1/4] Volcanic ash blankets the western side o...   \n",
       "3   [1/5] A Chinese police officer stands guard at...   \n",
       "4   [1/2] Rail workers that are members of the ASL...   \n",
       "5   Jan 14 (Reuters) - U.S. President Joe Biden ap...   \n",
       "6   WILMINGTON, Del., Jan 15 (Reuters) - President...   \n",
       "7   WASHINGTON, Jan 14 (Reuters) - This week's rev...   \n",
       "8   NEW YORK, Jan 13 (Reuters) - Wall Street's big...   \n",
       "9   Jan 14 (Reuters) - Bitcoin rose 5.58% to $21,0...   \n",
       "10  \\n      By\\n                        Investor R...   \n",
       "11  \\n      By\\n                        Investor R...   \n",
       "12  \\n      By\\n                        Investor R...   \n",
       "13  \\n      By\\n                        Investor R...   \n",
       "14  \\n      By\\n                        Investor R...   \n",
       "15  \\n      By\\n                        Investor R...   \n",
       "16  \\n      By\\n                        Investor R...   \n",
       "17  \\n      By\\n                        Investor R...   \n",
       "18  \\n      By\\n                        Investor R...   \n",
       "19  \\n      By\\n                        Investor R...   \n",
       "20                                            Sign up   \n",
       "21                                            Sign up   \n",
       "22                                            Sign up   \n",
       "23                                            Sign up   \n",
       "24                                            Sign up   \n",
       "25                                            Sign up   \n",
       "26                                            Sign up   \n",
       "27                                            Sign up   \n",
       "28                                            Sign up   \n",
       "29                                            Sign up   \n",
       "\n",
       "                                                  url  \n",
       "0   https://www.reuters.com/world/asia-pacific/pla...  \n",
       "1   https://www.reuters.com/world/europe/death-tol...  \n",
       "2   https://www.reuters.com/business/environment/o...  \n",
       "3   https://www.reuters.com/world/asia-pacific/chi...  \n",
       "4   https://www.reuters.com/world/uk/strikes-brita...  \n",
       "5   https://www.reuters.com/world/us/biden-declare...  \n",
       "6   https://www.reuters.com/world/us/president-bid...  \n",
       "7   https://www.reuters.com/world/us/biden-documen...  \n",
       "8   https://www.reuters.com/business/finance/wall-...  \n",
       "9   https://www.reuters.com/technology/bitcoin-ris...  \n",
       "10  https://www.ibm.com/investor/articles/ibm-tran...  \n",
       "11  https://www.ibm.com/investor/articles/ibm-prov...  \n",
       "12  https://www.ibm.com/investor/articles/ibm-prov...  \n",
       "13  https://www.ibm.com/investor/articles/ibm-prov...  \n",
       "14  https://www.ibm.com/investor/articles/ibm-to-u...  \n",
       "15  https://www.ibm.com/investor/articles/ibm-anno...  \n",
       "16  https://www.ibm.com/investor/articles/strategi...  \n",
       "17  https://www.ibm.com/investor/articles/ibm-prov...  \n",
       "18  https://www.ibm.com/investor/articles/ibm-prov...  \n",
       "19  https://www.ibm.com/investor/articles/ibm-prov...  \n",
       "20  https://towardsdatascience.com/a-data-driven-m...  \n",
       "21  https://towardsdatascience.com/using-fourier-t...  \n",
       "22  https://towardsdatascience.com/defining-interp...  \n",
       "23  https://towardsdatascience.com/julia-vs-libros...  \n",
       "24  https://towardsdatascience.com/analysing-nyc-y...  \n",
       "25  https://towardsdatascience.com/will-a-training...  \n",
       "26  https://towardsdatascience.com/solve-a-mystery...  \n",
       "27  https://towardsdatascience.com/analyzing-chess...  \n",
       "28  https://towardsdatascience.com/a-framework-for...  \n",
       "29  https://towardsdatascience.com/5-benefits-of-d...  "
      ]
     },
     "execution_count": 87,
     "metadata": {},
     "output_type": "execute_result"
    }
   ],
   "source": [
    "pd.read_csv(\"research_paper.csv\")"
   ]
  },
  {
   "cell_type": "markdown",
   "id": "292986a6",
   "metadata": {
    "pycharm": {
     "name": "#%% md\n"
    }
   },
   "source": [
    "## Methodology"
   ]
  },
  {
   "cell_type": "markdown",
   "id": "adfa54e7",
   "metadata": {
    "pycharm": {
     "name": "#%% md\n"
    }
   },
   "source": [
    "In introspect of our project scope, we decided to use 3 common websites data science students frequent to scrap data: Reuters, IBM, and Toward Data Science. We decided on 10 pages per website to total 30 observations. As per the Central Limit Theorem, a minimum size of 30 observations is sufficient to conduct significant statistics. \n",
    "\n",
    "For the main program, we took the approach of lists within lists in order to create a nicely framed dataframe. \n",
    "Then with the three libraries: Requests, BeautifulSoup, and Pandas we extract the parsed title and body text and store it in named variables. These variables are then put into the named list \"section\", essentially storing our data values. We append this to the collections list within list, and call the 0 and 1 index to create a square data frame. \n",
    "\n",
    "Then the dataframe is copied to a csv file which we labeled \"research_paper.csv\". \n",
    "This concludes our webscrapping portion. \n"
   ]
  },
  {
   "cell_type": "code",
   "execution_count": null,
   "id": "3092d884",
   "metadata": {
    "pycharm": {
     "name": "#%%\n"
    }
   },
   "outputs": [],
   "source": []
  }
 ],
 "metadata": {
  "kernelspec": {
   "display_name": "Python 3 (ipykernel)",
   "language": "python",
   "name": "python3"
  },
  "language_info": {
   "codemirror_mode": {
    "name": "ipython",
    "version": 3
   },
   "file_extension": ".py",
   "mimetype": "text/x-python",
   "name": "python",
   "nbconvert_exporter": "python",
   "pygments_lexer": "ipython3",
   "version": "3.9.13"
  }
 },
 "nbformat": 4,
 "nbformat_minor": 5
}