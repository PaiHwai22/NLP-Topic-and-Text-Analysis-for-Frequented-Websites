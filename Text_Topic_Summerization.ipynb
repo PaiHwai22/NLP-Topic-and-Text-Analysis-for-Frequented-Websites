{
 "cells": [
  {
   "cell_type": "markdown",
   "id": "46518bd7",
   "metadata": {
    "pycharm": {
     "name": "#%% md\n"
    }
   },
   "source": [
    "# MA3831 Capstone - Natural Language Processing\n",
    "Group 3: Ellen Jo, Pai Hwai, Josiah Teh"
   ]
  },
  {
   "cell_type": "markdown",
   "id": "c3985efa",
   "metadata": {
    "pycharm": {
     "name": "#%% md\n"
    }
   },
   "source": [
    "## Webscrapping \n",
    "Done By: Pai Hwai"
   ]
  },
  {
   "cell_type": "code",
   "execution_count": 1,
   "id": "37b0f55f",
   "metadata": {
    "scrolled": false,
    "pycharm": {
     "name": "#%%\n"
    }
   },
   "outputs": [],
   "source": [
    "# Initialize libraries\n",
    "import pandas as pd\n",
    "import numpy as np\n",
    "\n",
    "import requests\n",
    "from bs4 import BeautifulSoup"
   ]
  },
  {
   "cell_type": "code",
   "execution_count": 2,
   "id": "c4c7a93c",
   "metadata": {
    "scrolled": false,
    "pycharm": {
     "name": "#%%\n"
    }
   },
   "outputs": [],
   "source": [
    "# reuters\n",
    "rpage0 = 'https://www.reuters.com/world/asia-pacific/plane-carrying-72-people-crashes-nepal-some-bodies-recovered-official-state-tv-2023-01-15/'\n",
    "rpage1 = 'https://www.reuters.com/world/europe/death-toll-russian-strike-dnipro-apartment-building-rises-14-governor-2023-01-15/'\n",
    "rpage2 = 'https://www.reuters.com/business/environment/one-year-after-volcanic-blast-many-tongas-reefs-lay-silent-2023-01-15/'\n",
    "rpage3 = 'https://www.reuters.com/world/asia-pacific/china-hong-kong-resume-high-speed-rail-link-after-3-years-covid-curbs-2023-01-15/'\n",
    "rpage4 = 'https://www.reuters.com/breakingviews/tim-cooks-pay-re-enters-earths-atmosphere-2023-01-13/'\n",
    "rpage4 = 'https://www.reuters.com/world/uk/strikes-britain-set-intensify-teacher-ballot-results-due-2023-01-15/'\n",
    "rpage5 = 'https://www.reuters.com/world/us/biden-declares-emergency-california-due-winter-storms-2023-01-15/'\n",
    "rpage6 = 'https://www.reuters.com/world/us/president-biden-give-sermon-martin-luther-kings-church-atlanta-2023-01-15/'\n",
    "rpage7 = 'https://www.reuters.com/world/us/biden-documents-bungle-seen-political-black-eye-before-2024-launch-2023-01-14/'\n",
    "rpage8 = 'https://www.reuters.com/business/finance/wall-street-banks-stockpile-funds-possible-recession-show-resilience-2023-01-13/'\n",
    "rpage9 = 'https://www.reuters.com/technology/bitcoin-rises-56-21044-2023-01-14/'\n",
    "\n",
    "reutersList =[rpage0,rpage1,rpage2,rpage3,rpage4,rpage5,rpage6,rpage7,rpage8,rpage9]"
   ]
  },
  {
   "cell_type": "code",
   "execution_count": 3,
   "id": "f1e9ec70",
   "metadata": {
    "scrolled": false,
    "pycharm": {
     "name": "#%%\n"
    }
   },
   "outputs": [],
   "source": [
    "# IBM\n",
    "ipage0 = 'https://www.ibm.com/investor/articles/ibm-transfers-a-portion-of-us-pension-obligations'\n",
    "ipage1 = 'https://www.ibm.com/investor/articles/ibm-provides-historical-software-segment-data-to-reflect-announced-divestiture'\n",
    "ipage2 = 'https://www.ibm.com/investor/articles/ibm-provides-historical-data-in-preparation-for-reporting-changes'\n",
    "ipage3 = 'https://www.ibm.com/investor/articles/ibm-provides-additional-information-on-4q21-discontinued-operations'\n",
    "ipage4 = 'https://www.ibm.com/investor/articles/ibm-completes-separation-of-kyndryl'\n",
    "ipage4 = 'https://www.ibm.com/investor/articles/ibm-to-update-management-system-and-reporting-segments'\n",
    "ipage5 = 'https://www.ibm.com/investor/articles/ibm-announces-kyndryl-form-10-filing-related-to-separation'\n",
    "ipage6 = 'https://www.ibm.com/investor/articles/strategic-update-on-ibm-global-financing'\n",
    "ipage7 = 'https://www.ibm.com/investor/articles/ibm-provides-historical-data-to-reflect-offering-realignment'\n",
    "ipage8 = 'https://www.ibm.com/investor/articles/ibm-transfers-a-portion-of-us-pension-obligations'\n",
    "ipage9 = 'https://www.ibm.com/investor/articles/ibm-to-divest-select-software-products-to-hcl'\n",
    "ibmList = [ipage0,ipage1,ipage2,ipage3,ipage4,ipage5,ipage6,ipage7,ipage8,ipage9]"
   ]
  },
  {
   "cell_type": "code",
   "execution_count": 4,
   "id": "23539a94",
   "metadata": {
    "scrolled": false,
    "pycharm": {
     "name": "#%%\n"
    }
   },
   "outputs": [],
   "source": [
    "# Towards Data Science\n",
    "tpage0 = 'https://towardsdatascience.com/a-data-driven-method-to-reduce-employee-survey-length-8aecedcf5df9?source=collection_home'\n",
    "tpage1 = 'https://towardsdatascience.com/using-fourier-transform-of-vector-representations-derived-from-bert-embeddings-for-semantic-9d91a7d4839c?source=collection_home'\n",
    "tpage2 = 'https://towardsdatascience.com/defining-interpretable-features-ebd7ed94897?source=collection_home'\n",
    "tpage3 = 'https://towardsdatascience.com/julia-vs-librosa-vs-torchaudio-for-audio-data-processing-47aad525526e?source=collection_home'\n",
    "tpage4 = 'https://towardsdatascience.com/specialized-llms-chatgpt-lamda-galactica-codex-sparrow-and-more-ccccdd9f666f?source=collection_home'\n",
    "tpage4 = 'https://towardsdatascience.com/analysing-nyc-yellow-taxi-trip-records-with-interpretml-d4421bff32ac?source=collection_home'\n",
    "tpage5 = 'https://towardsdatascience.com/will-a-training-break-ruin-my-marathon-465e94cb949e?source=collection_home'\n",
    "tpage6 = 'https://towardsdatascience.com/solve-a-mystery-box-like-a-data-scientist-f9ee9570ba52?source=collection_home'\n",
    "tpage7 = 'https://towardsdatascience.com/analyzing-chess960-data-da5c8cdb01de?source=collection_home'\n",
    "tpage8 = 'https://towardsdatascience.com/a-framework-for-analyzing-churn-370d2283b75c?source=collection_home'\n",
    "tpage9 = 'https://towardsdatascience.com/5-benefits-of-data-sharing-5ad8efde3385?source=collection_home'\n",
    "tdsList = [tpage0, tpage1, tpage2, tpage3, tpage4, tpage5, tpage6, tpage7, tpage8, tpage9]"
   ]
  },
  {
   "cell_type": "markdown",
   "id": "ea7cf538",
   "metadata": {
    "pycharm": {
     "name": "#%% md\n"
    }
   },
   "source": [
    "### Data Collection\n",
    "We collected data from 3 different websites and 10 articles from each of them. \n",
    "The articles are then stored in it's representive named lists and extended into an empty list. "
   ]
  },
  {
   "cell_type": "code",
   "execution_count": 5,
   "id": "ab0d0bd9",
   "metadata": {
    "scrolled": true,
    "pycharm": {
     "name": "#%%\n"
    }
   },
   "outputs": [
    {
     "name": "stdout",
     "output_type": "stream",
     "text": [
      "['https://www.reuters.com/world/asia-pacific/plane-carrying-72-people-crashes-nepal-some-bodies-recovered-official-state-tv-2023-01-15/', 'https://www.reuters.com/world/europe/death-toll-russian-strike-dnipro-apartment-building-rises-14-governor-2023-01-15/', 'https://www.reuters.com/business/environment/one-year-after-volcanic-blast-many-tongas-reefs-lay-silent-2023-01-15/', 'https://www.reuters.com/world/asia-pacific/china-hong-kong-resume-high-speed-rail-link-after-3-years-covid-curbs-2023-01-15/', 'https://www.reuters.com/world/uk/strikes-britain-set-intensify-teacher-ballot-results-due-2023-01-15/', 'https://www.reuters.com/world/us/biden-declares-emergency-california-due-winter-storms-2023-01-15/', 'https://www.reuters.com/world/us/president-biden-give-sermon-martin-luther-kings-church-atlanta-2023-01-15/', 'https://www.reuters.com/world/us/biden-documents-bungle-seen-political-black-eye-before-2024-launch-2023-01-14/', 'https://www.reuters.com/business/finance/wall-street-banks-stockpile-funds-possible-recession-show-resilience-2023-01-13/', 'https://www.reuters.com/technology/bitcoin-rises-56-21044-2023-01-14/', 'https://www.ibm.com/investor/articles/ibm-transfers-a-portion-of-us-pension-obligations', 'https://www.ibm.com/investor/articles/ibm-provides-historical-software-segment-data-to-reflect-announced-divestiture', 'https://www.ibm.com/investor/articles/ibm-provides-historical-data-in-preparation-for-reporting-changes', 'https://www.ibm.com/investor/articles/ibm-provides-additional-information-on-4q21-discontinued-operations', 'https://www.ibm.com/investor/articles/ibm-to-update-management-system-and-reporting-segments', 'https://www.ibm.com/investor/articles/ibm-announces-kyndryl-form-10-filing-related-to-separation', 'https://www.ibm.com/investor/articles/strategic-update-on-ibm-global-financing', 'https://www.ibm.com/investor/articles/ibm-provides-historical-data-to-reflect-offering-realignment', 'https://www.ibm.com/investor/articles/ibm-transfers-a-portion-of-us-pension-obligations', 'https://www.ibm.com/investor/articles/ibm-to-divest-select-software-products-to-hcl', 'https://towardsdatascience.com/a-data-driven-method-to-reduce-employee-survey-length-8aecedcf5df9?source=collection_home', 'https://towardsdatascience.com/using-fourier-transform-of-vector-representations-derived-from-bert-embeddings-for-semantic-9d91a7d4839c?source=collection_home', 'https://towardsdatascience.com/defining-interpretable-features-ebd7ed94897?source=collection_home', 'https://towardsdatascience.com/julia-vs-librosa-vs-torchaudio-for-audio-data-processing-47aad525526e?source=collection_home', 'https://towardsdatascience.com/analysing-nyc-yellow-taxi-trip-records-with-interpretml-d4421bff32ac?source=collection_home', 'https://towardsdatascience.com/will-a-training-break-ruin-my-marathon-465e94cb949e?source=collection_home', 'https://towardsdatascience.com/solve-a-mystery-box-like-a-data-scientist-f9ee9570ba52?source=collection_home', 'https://towardsdatascience.com/analyzing-chess960-data-da5c8cdb01de?source=collection_home', 'https://towardsdatascience.com/a-framework-for-analyzing-churn-370d2283b75c?source=collection_home', 'https://towardsdatascience.com/5-benefits-of-data-sharing-5ad8efde3385?source=collection_home']\n"
     ]
    }
   ],
   "source": [
    "# add website lists to an empty list\n",
    "allPageList = []\n",
    "allPageList.extend(reutersList + ibmList + tdsList)\n",
    "\n",
    "print(allPageList)"
   ]
  },
  {
   "cell_type": "code",
   "execution_count": 6,
   "id": "f0998d45",
   "metadata": {
    "scrolled": false,
    "pycharm": {
     "name": "#%%\n"
    }
   },
   "outputs": [],
   "source": [
    "# Main Program\n",
    "collection = [[\"title\", \"body text\", \"url\"]]\n",
    "\n",
    "for i in allPageList:\n",
    "    page = requests.get(f\"{i}\")\n",
    "    soup = BeautifulSoup(page.text, \"html.parser\") \n",
    "    title = soup.find(\"h1\").text # get title\n",
    "    parsed_body = soup.find_all(\"p\") # get body\n",
    "    all_text = \" \".join([i.text for i in parsed_body])\n",
    "    urls = str(f\"{i}\") # also get the urls \n",
    "        \n",
    "\n",
    "    section = [title, all_text, urls]\n",
    "    collection.append(section)\n",
    "df = pd.DataFrame(collection[1:], columns=collection[0])"
   ]
  },
  {
   "cell_type": "code",
   "execution_count": 7,
   "id": "0c162e6e",
   "metadata": {
    "scrolled": false,
    "pycharm": {
     "name": "#%%\n"
    }
   },
   "outputs": [],
   "source": [
    "# copy dataframe into csv file\n",
    "# df.to_csv(\"research_paper.csv\")"
   ]
  },
  {
   "cell_type": "markdown",
   "id": "00ea4a1a",
   "metadata": {
    "pycharm": {
     "name": "#%% md\n"
    }
   },
   "source": [
    "### Data Summary\n",
    "For the main webscrapping program we use three main libaries: Requests, BeautifulSoup and pandas. \n",
    "\n",
    "We used html.parser instead of lxml because when we inspect the websites we can see that they're all html formatted. When we scrap with html parser, it is also cleaner when extracting the title and body texts. \n",
    "We chose an appropriate library to parse and extra the html data, BeautifulSoup. The url is also stored in the data frame because it will be useful to us later on in pre processing for summerization. The dataframe is created using with pandas, and indexing collections list. "
   ]
  },
  {
   "cell_type": "code",
   "execution_count": 8,
   "id": "28384d5e",
   "metadata": {
    "scrolled": false,
    "pycharm": {
     "name": "#%%\n"
    }
   },
   "outputs": [
    {
     "data": {
      "text/html": [
       "<div>\n",
       "<style scoped>\n",
       "    .dataframe tbody tr th:only-of-type {\n",
       "        vertical-align: middle;\n",
       "    }\n",
       "\n",
       "    .dataframe tbody tr th {\n",
       "        vertical-align: top;\n",
       "    }\n",
       "\n",
       "    .dataframe thead th {\n",
       "        text-align: right;\n",
       "    }\n",
       "</style>\n",
       "<table border=\"1\" class=\"dataframe\">\n",
       "  <thead>\n",
       "    <tr style=\"text-align: right;\">\n",
       "      <th></th>\n",
       "      <th>title</th>\n",
       "      <th>body text</th>\n",
       "      <th>url</th>\n",
       "    </tr>\n",
       "  </thead>\n",
       "  <tbody>\n",
       "    <tr>\n",
       "      <th>0</th>\n",
       "      <td>At least 68 killed in Nepal's worst air crash ...</td>\n",
       "      <td>KATHMANDU, Jan 15 (Reuters) - At least 68 peop...</td>\n",
       "      <td>https://www.reuters.com/world/asia-pacific/pla...</td>\n",
       "    </tr>\n",
       "    <tr>\n",
       "      <th>1</th>\n",
       "      <td>Rescue hopes fade after Russian attack on Dnipro</td>\n",
       "      <td>DNIPRO/KYIV, Ukraine, Jan 16 (Reuters) - Russi...</td>\n",
       "      <td>https://www.reuters.com/world/europe/death-tol...</td>\n",
       "    </tr>\n",
       "    <tr>\n",
       "      <th>2</th>\n",
       "      <td>One year after volcanic blast, many of Tonga's...</td>\n",
       "      <td>[1/4] Volcanic ash blankets the western side o...</td>\n",
       "      <td>https://www.reuters.com/business/environment/o...</td>\n",
       "    </tr>\n",
       "    <tr>\n",
       "      <th>3</th>\n",
       "      <td>China, Hong Kong resume high-speed rail link a...</td>\n",
       "      <td>[1/5] A Chinese police officer stands guard at...</td>\n",
       "      <td>https://www.reuters.com/world/asia-pacific/chi...</td>\n",
       "    </tr>\n",
       "    <tr>\n",
       "      <th>4</th>\n",
       "      <td>Strikes in Britain set to intensify as teacher...</td>\n",
       "      <td>[1/2] Rail workers that are members of the ASL...</td>\n",
       "      <td>https://www.reuters.com/world/uk/strikes-brita...</td>\n",
       "    </tr>\n",
       "  </tbody>\n",
       "</table>\n",
       "</div>"
      ],
      "text/plain": [
       "                                               title  \\\n",
       "0  At least 68 killed in Nepal's worst air crash ...   \n",
       "1   Rescue hopes fade after Russian attack on Dnipro   \n",
       "2  One year after volcanic blast, many of Tonga's...   \n",
       "3  China, Hong Kong resume high-speed rail link a...   \n",
       "4  Strikes in Britain set to intensify as teacher...   \n",
       "\n",
       "                                           body text  \\\n",
       "0  KATHMANDU, Jan 15 (Reuters) - At least 68 peop...   \n",
       "1  DNIPRO/KYIV, Ukraine, Jan 16 (Reuters) - Russi...   \n",
       "2  [1/4] Volcanic ash blankets the western side o...   \n",
       "3  [1/5] A Chinese police officer stands guard at...   \n",
       "4  [1/2] Rail workers that are members of the ASL...   \n",
       "\n",
       "                                                 url  \n",
       "0  https://www.reuters.com/world/asia-pacific/pla...  \n",
       "1  https://www.reuters.com/world/europe/death-tol...  \n",
       "2  https://www.reuters.com/business/environment/o...  \n",
       "3  https://www.reuters.com/world/asia-pacific/chi...  \n",
       "4  https://www.reuters.com/world/uk/strikes-brita...  "
      ]
     },
     "execution_count": 8,
     "metadata": {},
     "output_type": "execute_result"
    }
   ],
   "source": [
    "df.head()"
   ]
  },
  {
   "cell_type": "code",
   "execution_count": 9,
   "id": "c8120199",
   "metadata": {
    "scrolled": false,
    "pycharm": {
     "name": "#%%\n"
    }
   },
   "outputs": [
    {
     "data": {
      "text/html": [
       "<div>\n",
       "<style scoped>\n",
       "    .dataframe tbody tr th:only-of-type {\n",
       "        vertical-align: middle;\n",
       "    }\n",
       "\n",
       "    .dataframe tbody tr th {\n",
       "        vertical-align: top;\n",
       "    }\n",
       "\n",
       "    .dataframe thead th {\n",
       "        text-align: right;\n",
       "    }\n",
       "</style>\n",
       "<table border=\"1\" class=\"dataframe\">\n",
       "  <thead>\n",
       "    <tr style=\"text-align: right;\">\n",
       "      <th></th>\n",
       "      <th>title</th>\n",
       "      <th>body text</th>\n",
       "      <th>url</th>\n",
       "    </tr>\n",
       "  </thead>\n",
       "  <tbody>\n",
       "    <tr>\n",
       "      <th>25</th>\n",
       "      <td>Will a Training Break Ruin my Marathon?</td>\n",
       "      <td>Sign up Sign In Sign up Sign In Towards Data S...</td>\n",
       "      <td>https://towardsdatascience.com/will-a-training...</td>\n",
       "    </tr>\n",
       "    <tr>\n",
       "      <th>26</th>\n",
       "      <td>Solve a mystery box like a data scientist</td>\n",
       "      <td>Sign up Sign In Sign up Sign In Towards Data S...</td>\n",
       "      <td>https://towardsdatascience.com/solve-a-mystery...</td>\n",
       "    </tr>\n",
       "    <tr>\n",
       "      <th>27</th>\n",
       "      <td>Analyzing Chess960 Data</td>\n",
       "      <td>Sign up Sign In Sign up Sign In Towards Data S...</td>\n",
       "      <td>https://towardsdatascience.com/analyzing-chess...</td>\n",
       "    </tr>\n",
       "    <tr>\n",
       "      <th>28</th>\n",
       "      <td>A Framework for Analyzing Churn</td>\n",
       "      <td>Sign up Sign In Sign up Sign In Towards Data S...</td>\n",
       "      <td>https://towardsdatascience.com/a-framework-for...</td>\n",
       "    </tr>\n",
       "    <tr>\n",
       "      <th>29</th>\n",
       "      <td>5 Benefits of Data Sharing</td>\n",
       "      <td>Sign up Sign In Sign up Sign In Towards Data S...</td>\n",
       "      <td>https://towardsdatascience.com/5-benefits-of-d...</td>\n",
       "    </tr>\n",
       "  </tbody>\n",
       "</table>\n",
       "</div>"
      ],
      "text/plain": [
       "                                        title  \\\n",
       "25    Will a Training Break Ruin my Marathon?   \n",
       "26  Solve a mystery box like a data scientist   \n",
       "27                    Analyzing Chess960 Data   \n",
       "28            A Framework for Analyzing Churn   \n",
       "29                 5 Benefits of Data Sharing   \n",
       "\n",
       "                                            body text  \\\n",
       "25  Sign up Sign In Sign up Sign In Towards Data S...   \n",
       "26  Sign up Sign In Sign up Sign In Towards Data S...   \n",
       "27  Sign up Sign In Sign up Sign In Towards Data S...   \n",
       "28  Sign up Sign In Sign up Sign In Towards Data S...   \n",
       "29  Sign up Sign In Sign up Sign In Towards Data S...   \n",
       "\n",
       "                                                  url  \n",
       "25  https://towardsdatascience.com/will-a-training...  \n",
       "26  https://towardsdatascience.com/solve-a-mystery...  \n",
       "27  https://towardsdatascience.com/analyzing-chess...  \n",
       "28  https://towardsdatascience.com/a-framework-for...  \n",
       "29  https://towardsdatascience.com/5-benefits-of-d...  "
      ]
     },
     "execution_count": 9,
     "metadata": {},
     "output_type": "execute_result"
    }
   ],
   "source": [
    "df.tail()"
   ]
  },
  {
   "cell_type": "code",
   "execution_count": 10,
   "id": "ec29287e",
   "metadata": {
    "scrolled": true,
    "pycharm": {
     "name": "#%%\n"
    }
   },
   "outputs": [
    {
     "name": "stdout",
     "output_type": "stream",
     "text": [
      "Sign up Sign In Sign up Sign In Towards Data Science Jan 13 Save In this post, I analyze all the available Chess960 games played in Lichess. With this information, and using Bayesian A/B testing, I show that there are no starting positions that favor any of the players more than other positions. The original post was published here. All the images and plots, unless stated otherwise, are by the author. The World Fischer Random Chess Championship recently took place in Reykjavik, with GMHikaru emerging victorious. Fischer Random Chess, also known as Chess960, is a unique variation of the classic game that randomizes the starting position of the pieces. The intention behind this change is to level the playing field by eliminating the advantage of memorized openings and forcing players to rely on their skill and creativity. As I followed the event, one question came to mind: are there certain initial Chess960 variations that give one player an unfair advantage? As it stands, the standard chess initial position gives white a slight edge, with white usually winning around 55% of game points (ref)) and Stockfish giving white a score of +0.3 (ref)). However, this edge is relatively small, which is likely one of the reasons why this position has remained the standard. There is some work already done about this topic. Ryan Wiley wrote this blog post where he analyzes some data from lichess and reach the conclusion that some variations are better than others. In the post, he says that some positions have a higher winning probability for white pieces, but he doesn’t show how significant is this claim. This made me think that maybe his findings need to be revisited. He also trains a ML model on the data in order to determine the winner of a game using as inputs the variation and the ELOs of the players. The resulting model has an accuracy of 65%. On the other hand, there’s also this repo with the statistics for 4.5 millions games (~4500 games per variation). In this repo the biggest difference for white and black are listed, but again no statistical significance is given. Finally, there’s also some research about this topic focused in computer analysis. In this spreadsheet there’s the Stockfish evaluation at depth ~40 for all the starting positions. Interestingly there’s no position where Stockfish gives black player an advantage. There’s also this database with Chess960 games between different computer engines. However, I’m currently only interested in analyzing human games, so I’ll not put a lot of attention to this type of games. Maybe in a future post. Since none of the previous work has addressed the problem of assigning statistical confidence to the winning chances to each variation of Chess960 I decided to give it a try. In this post I analyze all the available Chess960 games played in Lichess. With this information I show that Lichess—the greatest chess platform out —maintains a database with all the games that have been played in their platform. To do the analysis, I downloaded ALL the available Chess960 data (up until 31–12–2022). For all the games played I extracted the variation, the players ELO and the final result. The data is available on Kaggle. The scripts and notebooks to donwload and process the data are available on this repo. The data I used is released under the Creative Commons CC0 license, which means you can use them for research, commercial purpose, publication, anything you like. You can download, modify and redistribute them, without asking for permission. According to the prior work mentioned above some variations are better than others. But how can we be sure that these differences are statistically significant? To answer this question we can use the famous A/B testing strategy. This is, we start with the hypothesis that variation A has bigger winning chances than variation B. The null hypothesis is then that and A and B have the same winning rate. To discard the null hypothesis we need to show that the observed data is so extreme under the assumption of the null hypothesis that it doesn’t make sense to still believe in it. To do that we’ll use bayesian A/B testing 1. In the bayesian framework, we assign to each variation a probability distribution for the winning rate. This is, instead of saying that variation A has a winning rate of X% we say that the winning rate for A has some probability distribution. The natural choice when modelling this kind of problem is to choose the beta distribution (ref). The beta distribution is defined as where B(a, b) = Γ(a)Γ(b)/Γ(a+b), Γ(x) is the gamma function, and for positive integers is Γ(n) = (n-1)!. For a given variation, the parameter α can be interpreted as the number of white wins plus one, and β as the number of white losses plus one. Now, for two variations A and B we want to know how probable is that the winning rate of A is bigger than the winning rate of B. Numerically, we can do this by sampling N values from A and B, namely w_A and w_B and compute the fraction of times that w_A > w_b. However, we can compute this analytically, starting with Notice that the beta function can give huge numbers, so to avoid overflow we can transform it using log. Fortunately, many statistical packages have implementations for the log beta function. With this transformation, the addends are transformed to This is implemented in python, using the scipy.special.betaln implementation of log B(a, b) , as With this method, we can compute how probable is for a variation to be better than another, and with that, we can define a threshold α such that we say that variation B is significantly better than variation A if Pr(p_A>p_B)<1-α. Below you can see the plot of some beta distributions. In the first plot, the parameters are α_A= 100, β_A=80, α_B=110 and β_B=70. In this second plot, the parameters α_A= 10, β_A=8, α_B=11 and β_B=7. Notice that, even in both cases the winning rates are the same, but the distributions look different. This is because in the first case, we’re more sure about the actual rate, and this is because we’ve observed more points than in the second case. Usually, in A/B testing one just compares two variations, eg: conversions in a website with white background vs blue background. However, in this experiment, we’re not just comparing two variations, but we’re comparing all the possible pairs of variations -remember that we want to find if there is at least one variation that is better than another variation- therefore, the number of comparisons we are doing is 960*959/2 ~ 5e5. This means that using the typical value of α=0.05 is an error because we need to take into consideration that we’re doing a lot of comparisons. For instance, assuming that the winning probabilities distributions are the same for all the initial positions and using the standard one would have a probability of at least observing one false positive! This means that even if there’s no statistically significant difference between any pair of variations we’ll still observe at least one false positive. If we want to keep the same α but increase the number of comparisons from 2 to we need then to define an effective α like and solving Plugging our values we finally get α_eff =1e-7. In the previous sections, we developed the theory to determine if a variation is better than another variation according to the observed data. This is, after having seen some data we build a hypothesis of the form variation B is better than variation A . However, we can’t test the truth of this hypothesis using the same data we used to generate the hypothesis. We need to test the hypothesis against a set of data that we haven’t used yet. To make this possible we will split the full dataset into two disjoint train and test datasets. The train dataset will be used together with the bayesian A/B testing framework to generate hypotheses of the form B>A. And then, using the test dataset we’ll check if the hypotheses hold. Notice that this approach makes sense only if the distribution of winning rates doesn’t change over time. This seems a reasonable assumption since, AFAIK, there haven’t been big theoretical advances that have changed the winning probability of certain variations during the last few years. In fact, minimizing the theory and preparation impact on game results is one of the goals of Chess960. In the previous sections we have implicitly assumed that a game can be either won or lost, however, it can also be drawn. I’ve assigned 1 point for a victory, 1/2 point for a draw, and 0 points for a loss, which is the usual approach in chess games. In this section, we will apply all the techniques explained above to the lichess dataset. In the dataset, we have more than 13M games, which is ~14K games per variation. However, the dataset contains games for a huge variety of players and time controls (from ELO 900 to 2000, and from blitz to classic games). Therefore, doing the comparisons using all the games would mean ignoring confounder variables. To avoid this problem I’ve only used games for players with an ELO in the range (1800, 2100) and with a blitz time control. I’m aware that these filters do not resemble the reality of top-level contests such as the World Fischer Random Chess Championship, but in lichess data, there are not a lot of classical Chess960 games for high-rated players (>2600), so I will just use the group with more games. After applying these filters we end up with a dataset with ~2.4M games, which is ~2.5K games per variation. The train/test split has been done using a temporal split. All the games prior to 2022-06-01 are part of the training dataset, and all the games after that date are part of the testing dataset, which accounts for ~80% of the data for training and ~20% for testing. The first step is to generate a set of hypotheses using A/B testing. The number of variation pairs to compare is pretty big (1e5) and testing all of them would take a lot, so we’ll just compare the 20 variations with the highest winning rates against the 30 variations with the lowest winning rates. This means we’ll have 900 pairs of variations to compare. Here we see the pair of variations with the bigger difference in the train dataset Notice that the α for these variations is bigger than α_eff, which means that the difference is not significant. Since these are the variations with the higher difference we know that there’s not any variation pair with a statistically significant difference. Anyway, even if the difference is not significant, with this table one can hypothesize that variation rnnqbkrb is worse than variation bbqrnkrn. If we check these variation values in the test dataset we get Notice that the “bad” variation still has a winning rate lower than the “good” variation, however, it has increased from 0.473 to 0.52, which is quite a lot. This brings a new question: do past variation performance guarantee future performance? In the last section, we have seen how to generate and test hypotheses, but we have also noticed that the performance of some variations changes over time. In this section, we’ll analyze this question more in detail. To do so, I have computed the winning rate in the train and test datasets and plotted one against the other. As we can see, there’s no relation between past and future winning rates! We’ve seen that past performances do not guarantee future performances, but do Stockfish evaluations predict future performances? In the following plot, I show the evaluation of Stockfish for each variation and the corresponding winning rate in the dataset. Until now we’ve seen that there are no better variations in the Chess960 game and that previous performance is no guarantee of future performance. In this section, we’ll see if we can predict which side is going to win a match based on the variation and the ELO of the players. To do so I’ll train an ML model. The features of the model are the ELO of the white and black player, the variation being played, and the time control being used. Since the cardinality of the variation feature is huge I’ll use CatBoost, which has been specifically designed to deal with categorical features. Also, as a baseline, I’ll use a model that predicts that white wins if White ELO > Black ELO, draws if White ELO == Black ELO, and losses if White ELO < Black ELO. With this experiment, I want to see which is the impact of the variation in the expected winning rate. In the next tables, I show the classification reports for both models. From these tables, we can see that the CatBoost and the baseline model have almost the same results, which means that knowing the variation being played doesn’t help to predict the result of the game. Notice that the results are compatible with the ones obtained here (accuracy ~65%), but in the linked blog it’s assumed that the knowing the variation helps to predict the winner, and we have seen that this is not true. In this post, I’ve shown that However, I’m aware that the data I’ve used is not representative of the problem I wanted to study in the first place. This is because the data accessible at Lichess is skewed towards non-professional players, and even though I’ve used data from players with a decent ELO (from 1800 to 2100) they are pretty far from the players participating in the Chess960 World Cup (>2600). The problem is that the number of players with an ELO >2600 is very low (209 according to chess.com), and not all of them play regularly Chess960 in Lichess, so the number of games with such characteristics is almost zero. -- -- Your home for data science. A Medium publication sharing concepts, ideas and codes. Abhijith Chandradas in Geek Culture Andrew Bush Piotr Krosniak Fabian Bosler in Towards Data Science Rachelf Binal Kagathara Abhijith Chandradas in MLearning.ai Ramiz Sami AboutHelpTermsPrivacy Husband, father, physicist, and data scientist. In that order | amolas.dev Help Status Writers Blog Careers Privacy Terms About Text to speech\n"
     ]
    }
   ],
   "source": [
    "print(df[\"body text\"][27])"
   ]
  },
  {
   "cell_type": "markdown",
   "id": "16ca9721",
   "metadata": {
    "pycharm": {
     "name": "#%% md\n"
    }
   },
   "source": [
    "### Methodology\n",
    "In introspect of our project scope, we decided to use 3 common websites data science students frequent to scrap data: Reuters, IBM, and Toward Data Science. We decided on 10 pages per website to total 30 observations. As per the Central Limit Theorem, a minimum size of 30 observations is sufficient to conduct significant statistics. \n",
    "\n",
    "For the main program, we took the approach of lists within lists in order to create a nicely framed dataframe. \n",
    "Then with the three libraries: Requests, BeautifulSoup, and Pandas we extract the parsed title and body text and store it in named variables. These variables are then put into the named list \"section\", essentially storing our data values. We append this to the collections list within list, and call the 0 and 1 index to create a square data frame. \n",
    "\n",
    "Then the dataframe is copied to a csv file which we labeled \"research_paper.csv\". \n",
    "This concludes our webscrapping portion. "
   ]
  },
  {
   "cell_type": "markdown",
   "id": "fbdab2ce",
   "metadata": {
    "pycharm": {
     "name": "#%% md\n"
    }
   },
   "source": [
    "## Topic Selection\n",
    "Done By: Ellen Jo"
   ]
  },
  {
   "cell_type": "code",
   "execution_count": 11,
   "id": "4eb399b4",
   "metadata": {
    "scrolled": true,
    "pycharm": {
     "name": "#%%\n"
    }
   },
   "outputs": [
    {
     "name": "stderr",
     "output_type": "stream",
     "text": [
      "C:\\Users\\Admin\\anaconda3\\lib\\site-packages\\past\\builtins\\misc.py:45: DeprecationWarning: the imp module is deprecated in favour of importlib; see the module's documentation for alternative uses\n",
      "  from imp import reload\n"
     ]
    }
   ],
   "source": [
    "# Necessary libraries\n",
    "from wordcloud import WordCloud\n",
    "import re\n",
    "from pprint import pprint\n",
    "\n",
    "import nltk\n",
    "from nltk.corpus import stopwords\n",
    "# nltk.download('stopwords')\n",
    "\n",
    "import gensim\n",
    "from gensim.utils import simple_preprocess\n",
    "import gensim.corpora as corpora\n",
    "\n",
    "import pyLDAvis\n",
    "from pyLDAvis import gensim_models\n",
    "\n",
    "import warnings\n",
    "warnings.filterwarnings(\"ignore\")"
   ]
  },
  {
   "cell_type": "code",
   "execution_count": 12,
   "id": "5144d35d",
   "metadata": {
    "scrolled": false,
    "pycharm": {
     "name": "#%%\n"
    }
   },
   "outputs": [
    {
     "data": {
      "text/plain": [
       "0    kathmandu jan  (reuters)  at least  people wer...\n",
       "1    dniprokyiv ukraine jan  (reuters)  russia and ...\n",
       "2    [] volcanic ash blankets the western side of t...\n",
       "3    [] a chinese police officer stands guard at in...\n",
       "4    [] rail workers that are members of the aslef ...\n",
       "Name: paper_text_processed, dtype: object"
      ]
     },
     "execution_count": 12,
     "metadata": {},
     "output_type": "execute_result"
    }
   ],
   "source": [
    "papers = df.copy() # input corpus\n",
    "\n",
    "# Remove punctuation\n",
    "papers['paper_text_processed'] = papers['body text'].map(lambda x: re.sub('[,-:\\.!?\\n]', '', x))\n",
    "\n",
    "# Convert the titles to lowercase\n",
    "papers['paper_text_processed'] = papers['paper_text_processed'].map(lambda x: x.lower())\n",
    "\n",
    "# Print out the first rows of papers\n",
    "papers['paper_text_processed'].head()"
   ]
  },
  {
   "cell_type": "code",
   "execution_count": 13,
   "id": "549945a9",
   "metadata": {
    "scrolled": false,
    "pycharm": {
     "name": "#%%\n"
    }
   },
   "outputs": [
    {
     "data": {
      "image/png": "[encoded data removed]",
      "text/plain": [
       "<PIL.Image.Image image mode=RGB size=400x200>"
      ]
     },
     "execution_count": 13,
     "metadata": {},
     "output_type": "execute_result"
    }
   ],
   "source": [
    "# Join the different processed titles together.\n",
    "long_string = ','.join(list(papers['paper_text_processed'].values))\n",
    "\n",
    "# Create a WordCloud object\n",
    "wordcloud = WordCloud(background_color=\"white\", max_words=5000, contour_width=3, contour_color='steelblue')\n",
    "\n",
    "# Generate a word cloud\n",
    "wordcloud.generate(long_string)\n",
    "\n",
    "# Visualize the word cloud\n",
    "wordcloud.to_image()"
   ]
  },
  {
   "cell_type": "code",
   "execution_count": 14,
   "id": "a47a10b1",
   "metadata": {
    "scrolled": false,
    "pycharm": {
     "name": "#%%\n"
    }
   },
   "outputs": [
    {
     "name": "stdout",
     "output_type": "stream",
     "text": [
      "['kathmandu', 'jan', 'reuters', 'least', 'people', 'killed', 'sunday', 'domestic', 'flight', 'yeti', 'airlines', 'crashed', 'pokhara', 'nepal', 'worst', 'air', 'crash', 'three', 'decades', 'small', 'himalayan', 'nation', 'hundreds', 'rescue', 'workers', 'scoured', 'hillside', 'flight', 'carrying', 'people']\n"
     ]
    }
   ],
   "source": [
    "stop_words = stopwords.words('english')\n",
    "stop_words.extend(['from', 'subject', 're', 'edu', 'use', 'the', 'al', 'a'])\n",
    "def sent_to_words(sentences):\n",
    "    for sentence in sentences:\n",
    "        # deacc=True removes punctuations\n",
    "        yield(gensim.utils.simple_preprocess(str(sentence), deacc=True))\n",
    "def remove_stopwords(texts):\n",
    "    return [[word for word in simple_preprocess(str(doc)) \n",
    "             if word not in stop_words] for doc in texts]\n",
    "data = papers.paper_text_processed.values.tolist()\n",
    "data_words = list(sent_to_words(data))\n",
    "# remove stop words\n",
    "data_words = remove_stopwords(data_words)\n",
    "# This is the example of one of the document.\n",
    "print(data_words[:1][0][:30])"
   ]
  },
  {
   "cell_type": "code",
   "execution_count": 15,
   "id": "1107acf4",
   "metadata": {
    "scrolled": false,
    "pycharm": {
     "name": "#%%\n"
    }
   },
   "outputs": [
    {
     "name": "stdout",
     "output_type": "stream",
     "text": [
      "[(0, 1), (1, 1), (2, 2), (3, 1), (4, 1), (5, 1), (6, 1), (7, 4), (8, 3), (9, 5), (10, 5), (11, 1), (12, 4), (13, 1), (14, 1), (15, 1), (16, 1), (17, 1), (18, 1), (19, 2), (20, 1), (21, 1), (22, 1), (23, 1), (24, 7), (25, 1), (26, 1), (27, 1), (28, 1), (29, 2)]\n"
     ]
    }
   ],
   "source": [
    "# Create Dictionary\n",
    "id2word = corpora.Dictionary(data_words)\n",
    "\n",
    "# Create Corpus\n",
    "texts = data_words\n",
    "\n",
    "# Term Document Frequency\n",
    "corpus = [id2word.doc2bow(text) for text in texts]\n",
    "\n",
    "# View\n",
    "print(corpus[:1][0][:30])"
   ]
  },
  {
   "cell_type": "code",
   "execution_count": 16,
   "id": "8b2f2f02",
   "metadata": {
    "scrolled": false,
    "pycharm": {
     "name": "#%%\n"
    }
   },
   "outputs": [
    {
     "name": "stdout",
     "output_type": "stream",
     "text": [
      "[(0,\n",
      "  '0.016*\"data\" + 0.008*\"ibm\" + 0.003*\"reuters\" + 0.003*\"dataset\" + '\n",
      "  '0.003*\"sharing\" + 0.003*\"business\" + 0.003*\"information\" + 0.003*\"said\" + '\n",
      "  '0.003*\"see\" + 0.003*\"operations\"'),\n",
      " (1,\n",
      "  '0.009*\"data\" + 0.008*\"ibm\" + 0.004*\"said\" + 0.003*\"reuters\" + '\n",
      "  '0.003*\"dataset\" + 0.003*\"business\" + 0.003*\"model\" + 0.003*\"training\" + '\n",
      "  '0.003*\"one\" + 0.003*\"information\"'),\n",
      " (2,\n",
      "  '0.012*\"data\" + 0.005*\"ibm\" + 0.004*\"said\" + 0.003*\"dataset\" + 0.003*\"also\" '\n",
      "  '+ 0.003*\"training\" + 0.003*\"model\" + 0.003*\"one\" + 0.003*\"help\" + '\n",
      "  '0.003*\"business\"')]\n"
     ]
    }
   ],
   "source": [
    "# number of topics\n",
    "num_topics = 3\n",
    "\n",
    "# Build LDA model\n",
    "lda_model = gensim.models.LdaMulticore(corpus=corpus,\n",
    "                                       id2word=id2word,\n",
    "                                       num_topics=num_topics)\n",
    "# Print the Keyword\n",
    "pprint(lda_model.print_topics())\n",
    "doc_lda = lda_model[corpus]"
   ]
  },
  {
   "cell_type": "code",
   "execution_count": 17,
   "id": "65b999ed",
   "metadata": {
    "pycharm": {
     "name": "#%%\n"
    }
   },
   "outputs": [
    {
     "data": {
      "text/html": [
       "<style>.container { max-width:100% !important; }</style>"
      ],
      "text/plain": [
       "<IPython.core.display.HTML object>"
      ]
     },
     "metadata": {},
     "output_type": "display_data"
    },
    {
     "data": {
      "text/html": [
       "<style>.output_result { max-width:100% !important; }</style>"
      ],
      "text/plain": [
       "<IPython.core.display.HTML object>"
      ]
     },
     "metadata": {},
     "output_type": "display_data"
    },
    {
     "data": {
      "text/html": [
       "<style>.output_area { max-width:100% !important; }</style>"
      ],
      "text/plain": [
       "<IPython.core.display.HTML object>"
      ]
     },
     "metadata": {},
     "output_type": "display_data"
    },
    {
     "data": {
      "text/html": [
       "<style>.input_area { max-width:100% !important; }</style>"
      ],
      "text/plain": [
       "<IPython.core.display.HTML object>"
      ]
     },
     "metadata": {},
     "output_type": "display_data"
    }
   ],
   "source": [
    "# fix formatting for next chunk\n",
    "from IPython.core.display import display, HTML\n",
    "display(HTML(\"<style>.container { max-width:100% !important; }</style>\"))\n",
    "display(HTML(\"<style>.output_result { max-width:100% !important; }</style>\"))\n",
    "display(HTML(\"<style>.output_area { max-width:100% !important; }</style>\"))\n",
    "display(HTML(\"<style>.input_area { max-width:100% !important; }</style>\"))"
   ]
  },
  {
   "cell_type": "code",
   "execution_count": 38,
   "id": "db469e3b",
   "metadata": {
    "scrolled": false,
    "pycharm": {
     "name": "#%%\n"
    }
   },
   "outputs": [
    {
     "data": {
      "text/html": [
       "\n",
       "<link rel=\"stylesheet\" type=\"text/css\" href=\"https://cdn.jsdelivr.net/gh/bmabey/pyLDAvis@3.3.1/pyLDAvis/js/ldavis.v1.0.0.css\">\n",
       "\n",
       "\n",
       "<div id=\"ldavis_el198601933268928320934010825\"></div>\n",
       "<script type=\"text/javascript\">\n",
       "\n",
       "var ldavis_el198601933268928320934010825_data = {\"mdsDat\": {\"x\": [0.0010172687146348415, 0.003724399932628744, -0.004741668647263586], \"y\": [0.004560974292239849, -0.004890219180896934, 0.00032924488865708576], \"topics\": [1, 2, 3], \"cluster\": [1, 1, 1], \"Freq\": [37.73066480728895, 34.389882952073464, 27.87945224063758]}, \"tinfo\": {\"Term\": [\"data\", \"sharing\", \"variation\", \"democratization\", \"sharing\", \"everyone\", \"teams\", \"data\", \"ibm\", \"reuters\", \"commerce\", \"chess\", \"hcl\", \"variation\", \"variations\", \"ibm\", \"model\", \"data\", \"said\", \"subsistence\", \"water\", \"reefs\", \"ash\", \"tonga\", \"location\", \"data\", \"said\", \"help\", \"dataset\", \"ibm\"], \"Freq\": [214.0, 35.0, 30.0, 1.930854855487785, 22.04080993602914, 2.8467807368614517, 7.909127501087364, 103.9764214801924, 49.70502315350176, 22.760681389646226, 2.61855706861157, 8.270990185318569, 3.0265159273031275, 16.309097829088095, 7.759796150526059, 46.954957296398554, 18.130475862583552, 53.78154745935212, 21.103458490510057, 1.4537580563047408, 3.253005190458361, 2.094559327180317, 3.1042360830157283, 2.422797089861737, 4.976375443569567, 56.41567226030865, 17.92909022215283, 12.985787993990794, 16.775008268562893, 24.44102286975324], \"Total\": [214.0, 35.0, 30.0, 3.1362753948614035, 35.86979296006609, 4.692674667176984, 13.289822277159304, 214.17364119985317, 121.10100331965356, 55.0831083153069, 4.863073705205808, 15.481101616913492, 5.668540818612245, 30.94093996518107, 14.674194095380193, 121.10100331965356, 46.30025733952972, 214.17364119985317, 58.034587312890444, 3.1267360381791627, 7.053343999940196, 4.692947736798889, 7.0206979927139415, 5.488109178434906, 12.462602441662076, 214.17364119985317, 58.034587312890444, 40.85435875917973, 58.73401261751804, 121.10100331965356], \"Category\": [\"Default\", \"Default\", \"Default\", \"Topic1\", \"Topic1\", \"Topic1\", \"Topic1\", \"Topic1\", \"Topic1\", \"Topic1\", \"Topic2\", \"Topic2\", \"Topic2\", \"Topic2\", \"Topic2\", \"Topic2\", \"Topic2\", \"Topic2\", \"Topic2\", \"Topic3\", \"Topic3\", \"Topic3\", \"Topic3\", \"Topic3\", \"Topic3\", \"Topic3\", \"Topic3\", \"Topic3\", \"Topic3\", \"Topic3\"], \"logprob\": [3.0, 2.0, 1.0, -8.1352, -5.7002, -7.747, -6.7251, -4.149, -4.887, -5.6681, -7.7378, -6.5877, -7.593, -5.9087, -6.6515, -4.8512, -5.8028, -4.7155, -5.651, -8.1164, -7.311, -7.7512, -7.3578, -7.6056, -6.8859, -4.4578, -5.6041, -5.9267, -5.6707, -5.2943], \"loglift\": [3.0, 2.0, 1.0, 0.4896, 0.4877, 0.4749, 0.4557, 0.2521, 0.0842, 0.0909, 0.4484, 0.4405, 0.4399, 0.4271, 0.4303, 0.12, 0.1299, -0.3144, 0.0558, 0.5114, 0.5034, 0.4706, 0.4612, 0.4596, 0.3592, -0.0568, 0.1027, 0.1311, 0.0242, -0.3231]}, \"token.table\": {\"Topic\": [1, 2, 3, 1, 2, 3, 1, 2, 3, 1, 2, 3, 1, 2, 3, 1, 2, 3, 1, 2, 3, 1, 2, 3, 1, 2, 3, 1, 2, 3, 1, 2, 3, 1, 2, 3, 1, 2, 3, 1, 2, 3, 1, 2, 3, 1, 2, 3, 1, 2, 3, 1, 2, 3, 1, 2, 3, 1, 2, 3, 1, 2, 3, 1, 2, 3], \"Freq\": [0.28487196032012685, 0.28487196032012685, 0.4273079404801902, 0.25837954552471254, 0.5167590910494251, 0.19378465914353438, 0.20563126545450525, 0.6168937963635157, 0.4112625309090105, 0.4855872992463804, 0.25213186691638984, 0.26147008420958945, 0.3745700152187162, 0.3405181956533783, 0.28944046630537157, 0.6376991010664683, 0.31884955053323416, 0.31884955053323416, 0.6392942645232933, 0.21309808817443107, 0.21309808817443107, 0.17641224293853053, 0.5292367288155916, 0.35282448587706106, 0.41611227091357056, 0.2692491164734868, 0.31820350128684805, 0.41287849505277774, 0.38810578534961104, 0.1981816776253333, 0.4012003129687554, 0.24072018778125323, 0.4012003129687554, 0.3239722814065974, 0.38876673768791686, 0.30237412931282426, 0.2130856885872995, 0.2130856885872995, 0.426171377174599, 0.4175508736424845, 0.3630877162108561, 0.23600701553705647, 0.3273909728617952, 0.3618531805314579, 0.3101598690269639, 0.6133294391883622, 0.13939305436099142, 0.25090749784978456, 0.31982232839275565, 0.31982232839275565, 0.31982232839275565, 0.6019644080379679, 0.15049110200949198, 0.22573665301423798, 0.18221211850693889, 0.36442423701387777, 0.36442423701387777, 0.25855710941563775, 0.5171142188312755, 0.1939178320617283, 0.27258737168123603, 0.5451747433624721, 0.20444052876092703, 0.2835534464244134, 0.2835534464244134, 0.42533016963662007], \"Term\": [\"ash\", \"ash\", \"ash\", \"chess\", \"chess\", \"chess\", \"commerce\", \"commerce\", \"commerce\", \"data\", \"data\", \"data\", \"dataset\", \"dataset\", \"dataset\", \"democratization\", \"democratization\", \"democratization\", \"everyone\", \"everyone\", \"everyone\", \"hcl\", \"hcl\", \"hcl\", \"help\", \"help\", \"help\", \"ibm\", \"ibm\", \"ibm\", \"location\", \"location\", \"location\", \"model\", \"model\", \"model\", \"reefs\", \"reefs\", \"reefs\", \"reuters\", \"reuters\", \"reuters\", \"said\", \"said\", \"said\", \"sharing\", \"sharing\", \"sharing\", \"subsistence\", \"subsistence\", \"subsistence\", \"teams\", \"teams\", \"teams\", \"tonga\", \"tonga\", \"tonga\", \"variation\", \"variation\", \"variation\", \"variations\", \"variations\", \"variations\", \"water\", \"water\", \"water\"]}, \"R\": 3, \"lambda.step\": 0.01, \"plot.opts\": {\"xlab\": \"PC1\", \"ylab\": \"PC2\"}, \"topic.order\": [1, 2, 3]};\n",
       "\n",
       "function LDAvis_load_lib(url, callback){\n",
       "  var s = document.createElement('script');\n",
       "  s.src = url;\n",
       "  s.async = true;\n",
       "  s.onreadystatechange = s.onload = callback;\n",
       "  s.onerror = function(){console.warn(\"failed to load library \" + url);};\n",
       "  document.getElementsByTagName(\"head\")[0].appendChild(s);\n",
       "}\n",
       "\n",
       "if(typeof(LDAvis) !== \"undefined\"){\n",
       "   // already loaded: just create the visualization\n",
       "   !function(LDAvis){\n",
       "       new LDAvis(\"#\" + \"ldavis_el198601933268928320934010825\", ldavis_el198601933268928320934010825_data);\n",
       "   }(LDAvis);\n",
       "}else if(typeof define === \"function\" && define.amd){\n",
       "   // require.js is available: use it to load d3/LDAvis\n",
       "   require.config({paths: {d3: \"https://d3js.org/d3.v5\"}});\n",
       "   require([\"d3\"], function(d3){\n",
       "      window.d3 = d3;\n",
       "      LDAvis_load_lib(\"https://cdn.jsdelivr.net/gh/bmabey/pyLDAvis@3.3.1/pyLDAvis/js/ldavis.v3.0.0.js\", function(){\n",
       "        new LDAvis(\"#\" + \"ldavis_el198601933268928320934010825\", ldavis_el198601933268928320934010825_data);\n",
       "      });\n",
       "    });\n",
       "}else{\n",
       "    // require.js not available: dynamically load d3 & LDAvis\n",
       "    LDAvis_load_lib(\"https://d3js.org/d3.v5.js\", function(){\n",
       "         LDAvis_load_lib(\"https://cdn.jsdelivr.net/gh/bmabey/pyLDAvis@3.3.1/pyLDAvis/js/ldavis.v3.0.0.js\", function(){\n",
       "                 new LDAvis(\"#\" + \"ldavis_el198601933268928320934010825\", ldavis_el198601933268928320934010825_data);\n",
       "            })\n",
       "         });\n",
       "}\n",
       "</script>"
      ],
      "text/plain": [
       "<IPython.core.display.HTML object>"
      ]
     },
     "execution_count": 38,
     "metadata": {},
     "output_type": "execute_result"
    }
   ],
   "source": [
    "pyLDAvis.enable_notebook()\n",
    "vis = pyLDAvis.gensim_models.prepare(lda_model, corpus, id2word, mds=\"mmds\", R = 3)\n",
    "pyLDAvis.display(vis)"
   ]
  },
  {
   "cell_type": "markdown",
   "id": "58ec3598",
   "metadata": {
    "pycharm": {
     "name": "#%% md\n"
    }
   },
   "source": [
    "## Text Abstraction/Summarisation\n",
    "Done By: Josiah Teh"
   ]
  },
  {
   "cell_type": "code",
   "execution_count": 19,
   "id": "9dd3c43b",
   "metadata": {
    "scrolled": false,
    "pycharm": {
     "name": "#%%\n"
    }
   },
   "outputs": [],
   "source": [
    "# Necessary libraries\n",
    "from transformers import pipeline\n",
    "from unicodedata import normalize"
   ]
  },
  {
   "cell_type": "code",
   "execution_count": 20,
   "id": "a90b31a9",
   "metadata": {
    "scrolled": false,
    "pycharm": {
     "name": "#%%\n"
    }
   },
   "outputs": [
    {
     "data": {
      "text/html": [
       "<div>\n",
       "<style scoped>\n",
       "    .dataframe tbody tr th:only-of-type {\n",
       "        vertical-align: middle;\n",
       "    }\n",
       "\n",
       "    .dataframe tbody tr th {\n",
       "        vertical-align: top;\n",
       "    }\n",
       "\n",
       "    .dataframe thead th {\n",
       "        text-align: right;\n",
       "    }\n",
       "</style>\n",
       "<table border=\"1\" class=\"dataframe\">\n",
       "  <thead>\n",
       "    <tr style=\"text-align: right;\">\n",
       "      <th></th>\n",
       "      <th>title</th>\n",
       "      <th>body text</th>\n",
       "      <th>url</th>\n",
       "    </tr>\n",
       "  </thead>\n",
       "  <tbody>\n",
       "    <tr>\n",
       "      <th>0</th>\n",
       "      <td>At least 68 killed in Nepal's worst air crash ...</td>\n",
       "      <td>KATHMANDU, Jan 15 (Reuters) - At least 68 peop...</td>\n",
       "      <td>https://www.reuters.com/world/asia-pacific/pla...</td>\n",
       "    </tr>\n",
       "    <tr>\n",
       "      <th>1</th>\n",
       "      <td>Rescue hopes fade after Russian attack on Dnipro</td>\n",
       "      <td>DNIPRO/KYIV, Ukraine, Jan 16 (Reuters) - Russi...</td>\n",
       "      <td>https://www.reuters.com/world/europe/death-tol...</td>\n",
       "    </tr>\n",
       "    <tr>\n",
       "      <th>2</th>\n",
       "      <td>One year after volcanic blast, many of Tonga's...</td>\n",
       "      <td>[1/4] Volcanic ash blankets the western side o...</td>\n",
       "      <td>https://www.reuters.com/business/environment/o...</td>\n",
       "    </tr>\n",
       "    <tr>\n",
       "      <th>3</th>\n",
       "      <td>China, Hong Kong resume high-speed rail link a...</td>\n",
       "      <td>[1/5] A Chinese police officer stands guard at...</td>\n",
       "      <td>https://www.reuters.com/world/asia-pacific/chi...</td>\n",
       "    </tr>\n",
       "    <tr>\n",
       "      <th>4</th>\n",
       "      <td>Strikes in Britain set to intensify as teacher...</td>\n",
       "      <td>[1/2] Rail workers that are members of the ASL...</td>\n",
       "      <td>https://www.reuters.com/world/uk/strikes-brita...</td>\n",
       "    </tr>\n",
       "  </tbody>\n",
       "</table>\n",
       "</div>"
      ],
      "text/plain": [
       "                                               title  \\\n",
       "0  At least 68 killed in Nepal's worst air crash ...   \n",
       "1   Rescue hopes fade after Russian attack on Dnipro   \n",
       "2  One year after volcanic blast, many of Tonga's...   \n",
       "3  China, Hong Kong resume high-speed rail link a...   \n",
       "4  Strikes in Britain set to intensify as teacher...   \n",
       "\n",
       "                                           body text  \\\n",
       "0  KATHMANDU, Jan 15 (Reuters) - At least 68 peop...   \n",
       "1  DNIPRO/KYIV, Ukraine, Jan 16 (Reuters) - Russi...   \n",
       "2  [1/4] Volcanic ash blankets the western side o...   \n",
       "3  [1/5] A Chinese police officer stands guard at...   \n",
       "4  [1/2] Rail workers that are members of the ASL...   \n",
       "\n",
       "                                                 url  \n",
       "0  https://www.reuters.com/world/asia-pacific/pla...  \n",
       "1  https://www.reuters.com/world/europe/death-tol...  \n",
       "2  https://www.reuters.com/business/environment/o...  \n",
       "3  https://www.reuters.com/world/asia-pacific/chi...  \n",
       "4  https://www.reuters.com/world/uk/strikes-brita...  "
      ]
     },
     "execution_count": 20,
     "metadata": {},
     "output_type": "execute_result"
    }
   ],
   "source": [
    "df1 = df.copy()\n",
    "df1.head()"
   ]
  },
  {
   "cell_type": "markdown",
   "id": "1ed23f39",
   "metadata": {
    "pycharm": {
     "name": "#%% md\n"
    }
   },
   "source": [
    "### Flowchart of Summarisation Process"
   ]
  },
  {
   "attachments": {
    "MA3831.jpg": {
     "image/jpeg": "[encoded data removed]"
    }
   },
   "cell_type": "markdown",
   "id": "fe4953b1",
   "metadata": {
    "pycharm": {
     "name": "#%% md\n"
    }
   },
   "source": [
    "![MA3831.jpg](attachment:MA3831.jpg)"
   ]
  },
  {
   "cell_type": "code",
   "execution_count": 21,
   "id": "36292b07",
   "metadata": {
    "scrolled": false,
    "pycharm": {
     "name": "#%%\n"
    }
   },
   "outputs": [],
   "source": [
    "# Function to get domain names from url\n",
    "def get_domain(url):\n",
    "    m = re.search(\"https?://([A-Za-z_0-9.-]+).*\", url)\n",
    "    if m:\n",
    "        return m.group(1)"
   ]
  },
  {
   "cell_type": "code",
   "execution_count": 22,
   "id": "d4dd6871",
   "metadata": {
    "pycharm": {
     "name": "#%%\n"
    }
   },
   "outputs": [
    {
     "name": "stdout",
     "output_type": "stream",
     "text": [
      "Original URL:https://www.reuters.com/world/europe/death-toll-russian-strike-dnipro-apartment-building-rises-14-governor-2023-01-15/\n",
      "Domain Name: www.reuters.com\n",
      "\n",
      "Original URL:https://www.ibm.com/investor/articles/ibm-to-divest-select-software-products-to-hcl\n",
      "Domain Name: www.ibm.com\n"
     ]
    }
   ],
   "source": [
    "# Test function\n",
    "test_url = df1[\"url\"][1]\n",
    "print(f\"Original URL:{test_url}\")\n",
    "print(f\"Domain Name: {get_domain(test_url)}\")\n",
    "print()\n",
    "\n",
    "test_url = df1[\"url\"][19]\n",
    "print(f\"Original URL:{test_url}\")\n",
    "print(f\"Domain Name: {get_domain(test_url)}\")"
   ]
  },
  {
   "cell_type": "code",
   "execution_count": 23,
   "id": "2c0937bb",
   "metadata": {
    "scrolled": true,
    "pycharm": {
     "name": "#%%\n"
    }
   },
   "outputs": [
    {
     "name": "stdout",
     "output_type": "stream",
     "text": [
      " Number of Words in Article: 999\n",
      "\n",
      "[1/4] Volcanic ash blankets the western side of Tongatapu island following the eruption of Hunga-Tonga-Hunga Ha'apai on January 15, 2022. Credit: Viliami T. Manu/handout via Reuters/File Photo Jan 15 (Reuters) - One year on from the massive eruption of an underwater volcano in the South Pacific, the island nation of Tonga is still dealing with the damage to its coastal waters. When Hunga-Tonga-Hunga Ha'apai went off, it sent a shockwave around the world, produced a plume of water and ash that soared higher into the atmosphere than any other on record, and triggered tsunami waves that ricocheted across the region - slamming into the archipelago which lies southeast of Fiji. Coral reefs were turned to rubble and many fish perished or migrated away. The disaster worsened conditions for Tongans, more than 80% of whom were already relying on subsistence reef fishing, according to 2019 World Bank data. Following the eruption, the Tongan government said it would seek $240 million for recovery, including improving food security. In the immediate aftermath, the World Bank provided $8 million. \"In terms of recovery plan ... we are awaiting for funds to cover expenditure associated with small-scale fisheries along coastal communities,\" said Poasi Ngaluafe, head of the science division of Tonga's Ministry of Fisheries. The vast majority of Tongan territory is ocean, with its exclusive economic zone extending across nearly 700,000 square kilometres (270,271 square miles) of water. While commercial fisheries contribute only 2.3% to the national economy, subsistence fishing is considered crucial in making up a staple of the Tongan diet. The U.N.'s Food and Agricultural Organization estimated in a November report that the eruption cost the country's fisheries and aquaculture sector some $7.4 million - a significant number for Tonga's roughly $500 million economy. The losses were largely due to damaged fishing vessels, with nearly half of that damage in the small-scale fisheries sector, though some commercial vessels were also affected. Because the Tongan government does not closely track subsistence fishing, it is difficult to estimate the eruption's impact on fish harvests. But scientists say that, apart from some fish stocks likely being depleted, there are other troubling signs that suggest it could take a long time for fisheries to recover. Young corals are failing to mature in the coastal waters around the eruption site, and many areas once home to healthy and abundant reefs are now barren, according to a government survey in August. It is likely volcanic ash smothered many reefs, depriving fish of feeding areas and spawning beds. The survey found that no marine life had survived near the volcano. Meanwhile, the tsunami that swelled in the waters around the archipelago knocked over large boulder corals, creating fields of coral rubble. And while some reefs survived, the crackling, snapping and popping noises of foraging shrimp and fish, a sign of a healthy environment, were gone. \"The reefs in Tonga were silent,\" the survey report found. Agriculture has proved a lifeline to Tongans facing empty waters and damaged boats. Despite concerns that the volcanic ash, which blanketed 99% of the country, would make soils too toxic to grow crops, \"food production has resumed with little impacts,\" said Siosiua Halavatu, a soil scientist speaking on behalf of the Tongan government. Soil tests revealed that the fallen ash was not harmful for humans. And while yam and sweet potato plants perished during the eruption, and fruit trees were burned by falling ash, they began to recover once the ash was washed away. \"We have supported recovery works through land preparation, and planting backyard gardening and roots crops in the farms, as well as export crops like watermelon and squash,\" Halavatu told Reuters. But long-term monitoring will be critical, he said, and Tonga hopes to develop a national soil strategy and upgrade their soil testing laboratory to help farmers. Scientists are also now taking stock of the eruption's impact on the atmosphere. While volcanic eruptions on land eject mostly ash and sulfur dioxide, underwater volcanoes jettison far more water. Tonga's eruption was no different, with the blast's white-grayish plume reaching 57 kilometers (35.4 miles) and injecting 146 million tonnes of water into the atmosphere. Water vapour can linger in the atmosphere for up to a decade, trapping heat on Earth's surface and leading to more overall warming. More atmospheric water vapour can also help deplete ozone, which shields the planet from harmful UV radiation. \"That one volcano increased the total amount of global water in the stratosphere by 10 percent,\" said Paul Newman, chief scientist for earth sciences at NASA's Goddard Space Flight Center. \"We're only now beginning to see the impact of that.\" (This story has been corrected to fix a word in the headline and, timeline in fourth paragraph) Our Standards: The Thomson Reuters Trust Principles. Climate activist Greta Thunberg condemned the forced removal of protesters from an abandoned village in western Germany as outrageous during a visit to the site, where demonstrators have dug in to try to stop the expansion of a coal mine. Reuters, the news and media division of Thomson Reuters, is the world’s largest multimedia news provider, reaching billions of people worldwide every day. Reuters provides business, financial, national and international news to professionals via desktop terminals, the world's media organizations, industry events and directly to consumers. Build the strongest argument relying on authoritative content, attorney-editor expertise, and industry defining technology. The most comprehensive solution to manage all your complex and ever-expanding tax and compliance needs. The industry leader for online information for tax, accounting and finance professionals.  Access unmatched financial data, news and content in a highly-customised workflow experience on desktop, web and mobile.  Browse an unrivalled portfolio of real-time and historical market data and insights from worldwide sources and experts. Screen for heightened risk individual and entities globally to help uncover hidden risks in business relationships and human networks. All quotes delayed a minimum of 15 minutes. See here for a complete list of exchanges and delays. © 2022 Reuters. All rights reserved\n"
     ]
    }
   ],
   "source": [
    "# Use first article to create functions \n",
    "article = df1[\"body text\"][2]\n",
    "num_words = len(article.split(\" \"))\n",
    "print(f\" Number of Words in Article: {num_words}\")\n",
    "# print(f\"Number of Words in Article: {len(article.split(\" \"))}\")\n",
    "print()\n",
    "print(article)"
   ]
  },
  {
   "cell_type": "code",
   "execution_count": 24,
   "id": "32004992",
   "metadata": {
    "scrolled": false,
    "pycharm": {
     "name": "#%%\n"
    }
   },
   "outputs": [],
   "source": [
    "# Set end of sentences(end) to assist with splitting text\n",
    "PUNCT = [\".\", \"!\", \"?\"]\n",
    "def create_sents(article):\n",
    "    for i in PUNCT:\n",
    "        article = article.replace(i, f\"{i}<end>\")\n",
    "    sentences = article.split(\"<end>\")\n",
    "\n",
    "    # Loop to remove sentences with only a length of 1\n",
    "    clean_sentences = [i for i in sentences if len(i) > 1]\n",
    "    \n",
    "    # Use normalize from unicode library to remove unicode spacings (\\xa0)\n",
    "    for i in range(len(clean_sentences)):\n",
    "        clean_sentences[i] = normalize(\"NFKD\", clean_sentences[i])\n",
    "        # clean_sentences[i] = re.sub(r\"\\'\", \"\", clean_sentences[i])\n",
    "    \n",
    "    return clean_sentences"
   ]
  },
  {
   "cell_type": "code",
   "execution_count": 25,
   "id": "75d2c8ba",
   "metadata": {
    "scrolled": true,
    "pycharm": {
     "name": "#%%\n"
    }
   },
   "outputs": [
    {
     "data": {
      "text/plain": [
       "[\"[1/4] Volcanic ash blankets the western side of Tongatapu island following the eruption of Hunga-Tonga-Hunga Ha'apai on January 15, 2022.\",\n",
       " ' Credit: Viliami T.',\n",
       " ' Manu/handout via Reuters/File Photo Jan 15 (Reuters) - One year on from the massive eruption of an underwater volcano in the South Pacific, the island nation of Tonga is still dealing with the damage to its coastal waters.',\n",
       " \" When Hunga-Tonga-Hunga Ha'apai went off, it sent a shockwave around the world, produced a plume of water and ash that soared higher into the atmosphere than any other on record, and triggered tsunami waves that ricocheted across the region - slamming into the archipelago which lies southeast of Fiji.\",\n",
       " ' Coral reefs were turned to rubble and many fish perished or migrated away.',\n",
       " ' The disaster worsened conditions for Tongans, more than 80% of whom were already relying on subsistence reef fishing, according to 2019 World Bank data.',\n",
       " ' Following the eruption, the Tongan government said it would seek $240 million for recovery, including improving food security.',\n",
       " ' In the immediate aftermath, the World Bank provided $8 million.',\n",
       " ' \"In terms of recovery plan .',\n",
       " ' we are awaiting for funds to cover expenditure associated with small-scale fisheries along coastal communities,\" said Poasi Ngaluafe, head of the science division of Tonga\\'s Ministry of Fisheries.',\n",
       " ' The vast majority of Tongan territory is ocean, with its exclusive economic zone extending across nearly 700,000 square kilometres (270,271 square miles) of water.',\n",
       " ' While commercial fisheries contribute only 2.',\n",
       " '3% to the national economy, subsistence fishing is considered crucial in making up a staple of the Tongan diet.',\n",
       " ' The U.',\n",
       " 'N.',\n",
       " \"'s Food and Agricultural Organization estimated in a November report that the eruption cost the country's fisheries and aquaculture sector some $7.\",\n",
       " \"4 million - a significant number for Tonga's roughly $500 million economy.\",\n",
       " ' The losses were largely due to damaged fishing vessels, with nearly half of that damage in the small-scale fisheries sector, though some commercial vessels were also affected.',\n",
       " \" Because the Tongan government does not closely track subsistence fishing, it is difficult to estimate the eruption's impact on fish harvests.\",\n",
       " ' But scientists say that, apart from some fish stocks likely being depleted, there are other troubling signs that suggest it could take a long time for fisheries to recover.',\n",
       " ' Young corals are failing to mature in the coastal waters around the eruption site, and many areas once home to healthy and abundant reefs are now barren, according to a government survey in August.',\n",
       " ' It is likely volcanic ash smothered many reefs, depriving fish of feeding areas and spawning beds.',\n",
       " ' The survey found that no marine life had survived near the volcano.',\n",
       " ' Meanwhile, the tsunami that swelled in the waters around the archipelago knocked over large boulder corals, creating fields of coral rubble.',\n",
       " ' And while some reefs survived, the crackling, snapping and popping noises of foraging shrimp and fish, a sign of a healthy environment, were gone.',\n",
       " ' \"The reefs in Tonga were silent,\" the survey report found.',\n",
       " ' Agriculture has proved a lifeline to Tongans facing empty waters and damaged boats.',\n",
       " ' Despite concerns that the volcanic ash, which blanketed 99% of the country, would make soils too toxic to grow crops, \"food production has resumed with little impacts,\" said Siosiua Halavatu, a soil scientist speaking on behalf of the Tongan government.',\n",
       " ' Soil tests revealed that the fallen ash was not harmful for humans.',\n",
       " ' And while yam and sweet potato plants perished during the eruption, and fruit trees were burned by falling ash, they began to recover once the ash was washed away.',\n",
       " ' \"We have supported recovery works through land preparation, and planting backyard gardening and roots crops in the farms, as well as export crops like watermelon and squash,\" Halavatu told Reuters.',\n",
       " ' But long-term monitoring will be critical, he said, and Tonga hopes to develop a national soil strategy and upgrade their soil testing laboratory to help farmers.',\n",
       " \" Scientists are also now taking stock of the eruption's impact on the atmosphere.\",\n",
       " ' While volcanic eruptions on land eject mostly ash and sulfur dioxide, underwater volcanoes jettison far more water.',\n",
       " \" Tonga's eruption was no different, with the blast's white-grayish plume reaching 57 kilometers (35.\",\n",
       " '4 miles) and injecting 146 million tonnes of water into the atmosphere.',\n",
       " \" Water vapour can linger in the atmosphere for up to a decade, trapping heat on Earth's surface and leading to more overall warming.\",\n",
       " ' More atmospheric water vapour can also help deplete ozone, which shields the planet from harmful UV radiation.',\n",
       " ' \"That one volcano increased the total amount of global water in the stratosphere by 10 percent,\" said Paul Newman, chief scientist for earth sciences at NASA\\'s Goddard Space Flight Center.',\n",
       " ' \"We\\'re only now beginning to see the impact of that.',\n",
       " '\" (This story has been corrected to fix a word in the headline and, timeline in fourth paragraph) Our Standards: The Thomson Reuters Trust Principles.',\n",
       " ' Climate activist Greta Thunberg condemned the forced removal of protesters from an abandoned village in western Germany as outrageous during a visit to the site, where demonstrators have dug in to try to stop the expansion of a coal mine.',\n",
       " ' Reuters, the news and media division of Thomson Reuters, is the world’s largest multimedia news provider, reaching billions of people worldwide every day.',\n",
       " \" Reuters provides business, financial, national and international news to professionals via desktop terminals, the world's media organizations, industry events and directly to consumers.\",\n",
       " ' Build the strongest argument relying on authoritative content, attorney-editor expertise, and industry defining technology.',\n",
       " ' The most comprehensive solution to manage all your complex and ever-expanding tax and compliance needs.',\n",
       " ' The industry leader for online information for tax, accounting and finance professionals.',\n",
       " '  Access unmatched financial data, news and content in a highly-customised workflow experience on desktop, web and mobile.',\n",
       " '  Browse an unrivalled portfolio of real-time and historical market data and insights from worldwide sources and experts.',\n",
       " ' Screen for heightened risk individual and entities globally to help uncover hidden risks in business relationships and human networks.',\n",
       " ' All quotes delayed a minimum of 15 minutes.',\n",
       " ' See here for a complete list of exchanges and delays.',\n",
       " ' © 2022 Reuters.',\n",
       " ' All rights reserved']"
      ]
     },
     "execution_count": 25,
     "metadata": {},
     "output_type": "execute_result"
    }
   ],
   "source": [
    "clean_sents = create_sents(article)\n",
    "clean_sents"
   ]
  },
  {
   "cell_type": "markdown",
   "id": "9858e235",
   "metadata": {
    "pycharm": {
     "name": "#%% md\n"
    }
   },
   "source": [
    "### Filter Creation"
   ]
  },
  {
   "cell_type": "markdown",
   "id": "a04f14cb",
   "metadata": {
    "pycharm": {
     "name": "#%% md\n"
    }
   },
   "source": [
    "Note that for reuter articles, everything after the string ' Our Standards: The Thomson Reuters Trust Principles.' is irrelevant."
   ]
  },
  {
   "cell_type": "code",
   "execution_count": 26,
   "id": "92be583c",
   "metadata": {
    "scrolled": false,
    "pycharm": {
     "name": "#%%\n"
    }
   },
   "outputs": [],
   "source": [
    "def filter_rel(sents, phrase):\n",
    "    index = [i for i, j in enumerate(sents) if phrase in j]\n",
    "    if len(index) == 0:\n",
    "        return -1\n",
    "    else:\n",
    "        return int(index[0])"
   ]
  },
  {
   "cell_type": "code",
   "execution_count": 27,
   "id": "ac307739",
   "metadata": {
    "scrolled": true,
    "pycharm": {
     "name": "#%%\n"
    }
   },
   "outputs": [
    {
     "data": {
      "text/plain": [
       "[\"[1/4] Volcanic ash blankets the western side of Tongatapu island following the eruption of Hunga-Tonga-Hunga Ha'apai on January 15, 2022.\",\n",
       " ' Credit: Viliami T.',\n",
       " ' Manu/handout via Reuters/File Photo Jan 15 (Reuters) - One year on from the massive eruption of an underwater volcano in the South Pacific, the island nation of Tonga is still dealing with the damage to its coastal waters.',\n",
       " \" When Hunga-Tonga-Hunga Ha'apai went off, it sent a shockwave around the world, produced a plume of water and ash that soared higher into the atmosphere than any other on record, and triggered tsunami waves that ricocheted across the region - slamming into the archipelago which lies southeast of Fiji.\",\n",
       " ' Coral reefs were turned to rubble and many fish perished or migrated away.',\n",
       " ' The disaster worsened conditions for Tongans, more than 80% of whom were already relying on subsistence reef fishing, according to 2019 World Bank data.',\n",
       " ' Following the eruption, the Tongan government said it would seek $240 million for recovery, including improving food security.',\n",
       " ' In the immediate aftermath, the World Bank provided $8 million.',\n",
       " ' \"In terms of recovery plan .',\n",
       " ' we are awaiting for funds to cover expenditure associated with small-scale fisheries along coastal communities,\" said Poasi Ngaluafe, head of the science division of Tonga\\'s Ministry of Fisheries.',\n",
       " ' The vast majority of Tongan territory is ocean, with its exclusive economic zone extending across nearly 700,000 square kilometres (270,271 square miles) of water.',\n",
       " ' While commercial fisheries contribute only 2.',\n",
       " '3% to the national economy, subsistence fishing is considered crucial in making up a staple of the Tongan diet.',\n",
       " ' The U.',\n",
       " 'N.',\n",
       " \"'s Food and Agricultural Organization estimated in a November report that the eruption cost the country's fisheries and aquaculture sector some $7.\",\n",
       " \"4 million - a significant number for Tonga's roughly $500 million economy.\",\n",
       " ' The losses were largely due to damaged fishing vessels, with nearly half of that damage in the small-scale fisheries sector, though some commercial vessels were also affected.',\n",
       " \" Because the Tongan government does not closely track subsistence fishing, it is difficult to estimate the eruption's impact on fish harvests.\",\n",
       " ' But scientists say that, apart from some fish stocks likely being depleted, there are other troubling signs that suggest it could take a long time for fisheries to recover.',\n",
       " ' Young corals are failing to mature in the coastal waters around the eruption site, and many areas once home to healthy and abundant reefs are now barren, according to a government survey in August.',\n",
       " ' It is likely volcanic ash smothered many reefs, depriving fish of feeding areas and spawning beds.',\n",
       " ' The survey found that no marine life had survived near the volcano.',\n",
       " ' Meanwhile, the tsunami that swelled in the waters around the archipelago knocked over large boulder corals, creating fields of coral rubble.',\n",
       " ' And while some reefs survived, the crackling, snapping and popping noises of foraging shrimp and fish, a sign of a healthy environment, were gone.',\n",
       " ' \"The reefs in Tonga were silent,\" the survey report found.',\n",
       " ' Agriculture has proved a lifeline to Tongans facing empty waters and damaged boats.',\n",
       " ' Despite concerns that the volcanic ash, which blanketed 99% of the country, would make soils too toxic to grow crops, \"food production has resumed with little impacts,\" said Siosiua Halavatu, a soil scientist speaking on behalf of the Tongan government.',\n",
       " ' Soil tests revealed that the fallen ash was not harmful for humans.',\n",
       " ' And while yam and sweet potato plants perished during the eruption, and fruit trees were burned by falling ash, they began to recover once the ash was washed away.',\n",
       " ' \"We have supported recovery works through land preparation, and planting backyard gardening and roots crops in the farms, as well as export crops like watermelon and squash,\" Halavatu told Reuters.',\n",
       " ' But long-term monitoring will be critical, he said, and Tonga hopes to develop a national soil strategy and upgrade their soil testing laboratory to help farmers.',\n",
       " \" Scientists are also now taking stock of the eruption's impact on the atmosphere.\",\n",
       " ' While volcanic eruptions on land eject mostly ash and sulfur dioxide, underwater volcanoes jettison far more water.',\n",
       " \" Tonga's eruption was no different, with the blast's white-grayish plume reaching 57 kilometers (35.\",\n",
       " '4 miles) and injecting 146 million tonnes of water into the atmosphere.',\n",
       " \" Water vapour can linger in the atmosphere for up to a decade, trapping heat on Earth's surface and leading to more overall warming.\",\n",
       " ' More atmospheric water vapour can also help deplete ozone, which shields the planet from harmful UV radiation.',\n",
       " ' \"That one volcano increased the total amount of global water in the stratosphere by 10 percent,\" said Paul Newman, chief scientist for earth sciences at NASA\\'s Goddard Space Flight Center.',\n",
       " ' \"We\\'re only now beginning to see the impact of that.']"
      ]
     },
     "execution_count": 27,
     "metadata": {},
     "output_type": "execute_result"
    }
   ],
   "source": [
    "clean_sents[:filter_rel(clean_sents, 'Our Standards: The Thomson Reuters Trust Principles.')]"
   ]
  },
  {
   "cell_type": "code",
   "execution_count": 28,
   "id": "bff8393e",
   "metadata": {
    "scrolled": true,
    "pycharm": {
     "name": "#%%\n"
    }
   },
   "outputs": [
    {
     "data": {
      "text/plain": [
       "['Sign up Sign In Sign up Sign In Towards Data Science Jan 14 Save Employee surveys are quickly becoming a steadfast aspect of organizational life.',\n",
       " ' Indeed, the growth of the people analytics field and the adoption of a data-driven approach to talent management is a testament to this (see McKinsey report).',\n",
       " ' In one survey, we can gather information on how our leaders are performing, whether our workforce is motivated, and if employees are thinking about leaving.',\n",
       " ' There is just one rather long elephant in the room — our survey length.',\n",
       " ' The creators of employee surveys (e.',\n",
       " 'g.',\n",
       " ', HR and/or behavioral and data scientists) want to measure a multitude of important topics accurately, which often requires a large number of questions.',\n",
       " ' On the other hand, respondents who take long surveys are significantly more likely to dropout from a survey (Hoerger, 2010; Galesic & Bosnjak, 2009) and introduce measurement error (e.',\n",
       " 'g.',\n",
       " ', Peytchev & Peytcheva, 2017; Holtom et al.',\n",
       " ', 2022).',\n",
       " ' Despite this, a greater percentage of respondents are engaging with surveys: published studies in organizational behavior literature have reported a substantial increase in respondent rates from 48% to 68% in a 15-year period (2005–2020; Holtom et al.',\n",
       " ', 2022).',\n",
       " ' While survey length is only one factor amongst a myriad that determine data quality and respondent rates (e.',\n",
       " 'g.',\n",
       " ', incentives, follow-ups; Edwards et al.',\n",
       " ', 2002; Holtom et al.',\n",
       " ', 2022), survey length is easily malleable and under the direct control of survey creators.',\n",
       " ' This article presents a method to shorten employee surveys by selecting the least amount of items possible to achieve maximal desirable item-level characteristics, reliability, and validity.',\n",
       " ' Through this method, employee surveys can be shortened to save employee time, while hopefully improving participation/dropout rates and measurement error that are common concerns in longer surveys (e.',\n",
       " 'g.',\n",
       " ', Edwards et al.',\n",
       " ', 2002; Holtom et al.',\n",
       " ', 2022; Jeong et al.',\n",
       " ', 2023; Peytchev & Peytcheva, 2017; Porter, 2004; Rolstad et al.',\n",
       " ', 2011; Yammarino et al.',\n",
       " ', 1991).',\n",
       " ' The Monetary Benefit of Survey Shortening Not convinced?',\n",
       " ' Let’s look at the tangible monetary benefits of shortening a survey.',\n",
       " ' As an illustrative example, let’s calculate the return-on-investment if we shorten a quarterly 15 minute survey to 10 minutes for a large organization of 100,000 individuals (e.',\n",
       " 'g.',\n",
       " ', company in fortune 100).',\n",
       " ' Using the median salary of workers in the United States ($56,287; see report by the U.',\n",
       " 'S.',\n",
       " ' Census), shortening a survey by 5 minutes can save the organization over $1 million in employee time.',\n",
       " ' While these calculations aren’t an exact science, it is a useful metric to understand how survey time can equate into the bottom-line of an organization.',\n",
       " ' The Solution: Shortening Employee Surveys To shorten our surveys but retain desirable item-level statistics, reliability, and validity, we leverage a two-step process where Python and R programs will help determine the optimal items to retain.',\n",
       " ' In step 1, we will utilize a multiple-criteria decision making (MCDM) program (Scikit-criteria) to select the best performing items based upon several criteria (standard deviation, skewness, kurtosis, and subject matter expert ratings).',\n",
       " ' In step 2, we will utilize an R program (OASIS; Cortina et al.',\n",
       " ', 2020) to select the optimal combination of top ranked items from step 1 to further shorten our scale but maintain maximal reliability and other validity concerns.',\n",
       " ' In short, the final output will be a reduced set of items that have desirable item-level statistics and maximal reliability and validity.',\n",
       " ' Who is this methodology for?',\n",
       " ' What do you need?',\n",
       " ' Github page for code: https://github.',\n",
       " 'com/TrevorCoppins/SurveyReductionCode Please note: All images, unless otherwise noted, are by the author Item-level Statistics Explanation For ‘pure’ item-level statistics (or properties of each item), we utilize standard deviation (i.',\n",
       " 'e.',\n",
       " ', on average, how much do respondents vary in responses) and skewness and kurtosis (i.',\n",
       " 'e.',\n",
       " ', how asymmetrical the distribution of data is and how far it departs from the ideal ‘peakness’ of a normal distribution).',\n",
       " ' A moderate amount of standard deviation is desirable for each item because most of our constructs (e.',\n",
       " 'g.',\n",
       " ', job satisfaction, motivation) naturally differ between individuals.',\n",
       " ' This variability between individuals is what we utilize to make predictions (e.',\n",
       " 'g.',\n",
       " ', “why does the sales department have higher job satisfaction than the research and development department?',\n",
       " '”).',\n",
       " ' For skewness and kurtosis, we ideally want minimal levels because this indicates our data is normally distributed and is an assumption for a vast majority of our statistical models (e.',\n",
       " 'g.',\n",
       " ', regression).',\n",
       " ' While some skewness and kurtosis are acceptable or even normal dependent on the construct, the real problem arises when distribution of scores has a large difference from a normal distribution (Warner, 2013).',\n",
       " ' Note: Some variables are not naturally normally distributed and should not be utilized here.',\n",
       " ' For example, frequency data for the question: “In the last month, have you experienced a workplace accident?',\n",
       " '” is a true non-normal distribution because a vast majority would select ‘None’ (or 0).',\n",
       " ' Item-level Analysis and MCDM First, we need to install some programs that are required for later analyses.',\n",
       " ' The first of which is the MCDM program: scikit-criteria (see documentation here; with the Conda install, it may take a minute or two).',\n",
       " ' We also need to import pandas, skcriteria, and the skew and kurtosis modules of scipy.',\n",
       " 'stats.',\n",
       " ' Data Input Next, we need to choose our data: 1) your own dataset or 2) practice dataset (as discussed above, I utilized the first 1000 responses on 10 items of conscientiousness from an open-source dataset of the IPIP-50).',\n",
       " ' Note: if you are using your own dataset, you will need to clean your data prior to the rest of the analyses (e.',\n",
       " 'g.',\n",
       " ', deal with missing data).',\n",
       " ' If you are using the practice dataset, some items need to be recoded (see here for scoring key).',\n",
       " ' This ensures that all responses are on the same direction for our likert-scale responses (e.',\n",
       " 'g.',\n",
       " ', 5 represents highly conscientious responses across all items).',\n",
       " ' Note: For this method, you should only work on one measure or ‘scale’ at a time.',\n",
       " ' For example, if you want to shorten your job satisfaction and organizational culture measures, conduct this analysis separately for each measure.',\n",
       " ' Generating Item-level Statistics Next, we gather all of the item-level statistics that we need for scikit-criteria to help make our final ranking of optimal items.',\n",
       " ' This includes standard deviation, skewness, and kurtosis.',\n",
       " ' It should be noted that kurtosis program here utilizes Fisher’s Kurtosis, where a normal distribution has 0 kurtosis.',\n",
       " ' OPTIONAL: Subject Matter Expert Ratings (Definitional Correspondence) While optional, it is highly recommended to gather subject matter expert (SME) ratings if you are establishing a new scale or measure in your academic or applied work.',\n",
       " ' In general, SME ratings help establish content validity or definitional correspondence, which is how well your items correspond to the provided definition (Hinkin & Tracey, 1999).',\n",
       " ' This method involves surveying a few individuals on how closely an item corresponds to a definition you provide on a likert-scale of 1 (Not at all) to 5 (Completely).',\n",
       " ' As outlined in Colquitt et al.',\n",
       " ' (2019), we can even calculate a HTC index with this information: average definitional correspondence rating / number of possible anchors.',\n",
       " ' For example, if 5 SMEs’ mean correspondence rating of item i was 4.',\n",
       " '20: 4.',\n",
       " '20/5 = 0.',\n",
       " '84.',\n",
       " ' If you have collected SME ratings, you should format and include them here as a separate dataframe.',\n",
       " ' Note: you should format SME ratings into a singular column, with each item listed as a row.',\n",
       " ' This will make it possible to merge the different dataframes.',\n",
       " ' Merging Data and Absolute Values Now, we simply merge these disparate data frames of SME (optional) and item-level statistics.',\n",
       " ' The names of the items need to match across dataframes or else pandas will add additional rows.',\n",
       " ' Then, we transpose our data to match our final scikit-criteria program requirements.',\n",
       " ' Lastly, since skewness and kurtosis can range from negative to positive values, we take the absolute value because it is easier to work with.',\n",
       " ' Scikit-criteria Decision-matrix and Ranking Items Now we utilize the scikit-criteria decision-making program to rank these items based upon multiple criteria.',\n",
       " ' As can be seen below, we must pass the values of our dataframe (mergeddata.',\n",
       " 'values), input objectives for each criteria (e.',\n",
       " 'g.',\n",
       " ', if maximum or minimum is more desirable), and weights.',\n",
       " ' While the default code has equal weights for each criteria, if you utilize SME ratings I would highly suggest assigning more weight to these ratings.',\n",
       " ' Other item-level statistics are only important if we are measuring the construct we intend to measure!',\n",
       " ' Finally, alternatives and criteria are simply the names passed into the scikit-criteria package to make sense of our output.',\n",
       " ' Filters One of the greatest parts about scikit-criteria is their filters function.',\n",
       " ' This allows us to filter out undesirable item-level statistics and prevent these items from making it to the final selection ranking stage.',\n",
       " ' For example, we do not want an item reaching the final selection stage if they have extremely high standard deviation — this indicates respondents vary wildly in their answer to questions.',\n",
       " ' For SME ratings (described above as optional), this is especially important.',\n",
       " ' Here, we can only request items to be retained if they score above a minimal threshold — this prevents items that have extremely poor definitional correspondence (e.',\n",
       " 'g.',\n",
       " ', average SME rating of 1 or 2) from being a top ranked item if they have other desirable item-level statistics.',\n",
       " ' Below is an application of filters, but since our data is already within these value limits it does not impact our final result.',\n",
       " ' Note: This can also be applied for skewness and kurtosis values.',\n",
       " ' Many scientists will utilize a general rule-of-thumb where skewness and kurtosis is acceptable between -1.',\n",
       " '00 and +1.',\n",
       " '00 (Warner, 2013); you would simply create upper and lower level limit filters as shown above with standard deviation.',\n",
       " ' Inversion and Scaling Criteria Next, we invert our skewness and kurtosis values to make all criteria maximal through invert_objects.',\n",
       " 'InvertMinimize().',\n",
       " ' The scikit-criteira program prefers all criteria to be maximized as it is easier for the final step (e.',\n",
       " 'g.',\n",
       " ', sum weights).',\n",
       " ' Finally, we scale each criteria for easy comparison and weight summation.',\n",
       " ' Each value is divided by the sum of all criteria in that column to have an easy comparison of optimal value for each criterion (e.',\n",
       " 'g.',\n",
       " ', it1 has an SD of 1.',\n",
       " '199, which is divided by the column total of 12.',\n",
       " '031 to obtain .',\n",
       " '099).',\n",
       " ' Final Rankings (Sum Weights) Finally, there are a variety of ways we can use this decision-matrix, but one of the easiest ways is to calculate the weighted sum.',\n",
       " ' Here, each item’s row is summated (e.',\n",
       " 'g.',\n",
       " ', SD + skewness + kurtosis) and then ranked by the program.',\n",
       " ' For the practice dataset, the rankings are as follows: Save Data for Step Two Lastly, we save our original and clean dataset for step two (here, our original ‘Data’ dataframe, not our decision matrix ‘dmatfinal’).',\n",
       " ' In step two, we will input items that have been highly ranked in step one.',\n",
       " ' In step one, we ranked all our items according to their item-level statistics.',\n",
       " ' Now, we utilize the Optimization App for Selecting Item Subsets (OASIS) calculator in R, which was developed by Cortina et al.',\n",
       " ' (2020; see user guide).',\n",
       " ' The OASIS calculator runs multiple combinations of our items and determines which combination of items results in the highest level of reliability (and convergent + divergent validity if applicable).',\n",
       " ' For this example, we focus on two common reliability indices: cronbach’s alpha and omega.',\n",
       " ' These indices are typically extremely similar in value, however, many researchers have advocated for omega to be the main reliability indices for a variety of reasons (See Cho & Kim, 2015; McNeish, 2018).',\n",
       " ' Omega is a measure of reliability which determines how well a set of items load onto a singular ‘factor’ (e.',\n",
       " 'g.',\n",
       " ', a construct, such as job satisfaction).',\n",
       " \" Similar to Cronbach's alpha (a measure of internal reliability), higher values are more desirable, where values above .\",\n",
       " '70 (max upper limit = 1.',\n",
       " '00) are generally considered reliable in academic research.',\n",
       " ' The OASIS calculator is extremely easy to use due to the shiny app.',\n",
       " ' The following code will install required programs and prompt a pop-up box (as seen below).',\n",
       " ' Now, we select our original cleaned dataset from step one.',\n",
       " ' In our illustrative example, I have selected the top 8 items, requested a minimum of 3 items and a maximum of 8.',\n",
       " ' If you had convergent or divergent validity measures, you can input them in this step.',\n",
       " ' Otherwise, we request for the calculation of omega-h.',\n",
       " ' The Final Results As can be seen below, a 5-item solution produced the highest omega (ω = .',\n",
       " '73) and Cronbach alpha coefficients (α = .',\n",
       " '75) which met traditional academic reliability standards.',\n",
       " ' If we had convergent and divergent validity measures, we could also rank item combinations using these values as well.',\n",
       " ' The OASIS calculator also lets you select general ranges for each value (e.',\n",
       " 'g.',\n",
       " ', only show combinations above certain values).',\n",
       " ' Let’s compare our final solution: In comparison to the full 10-item measure, our final item set takes half the time to administer, has comparable and acceptable levels of reliability (ω and α >.',\n",
       " '70), slightly higher standard deviation and lower skewness, but unfortunately higher levels of kurtosis (however, it is still within the acceptable range of -1.',\n",
       " '00 to +1.',\n",
       " '00).',\n",
       " ' This final shortened item-set could be a very suitable candidate to replace the full measure.',\n",
       " ' If successfully replicated for all survey measures, this could substantially reduce survey length in half.',\n",
       " ' Users may want to take additional steps to verify the new shortened measure works as intended (e.',\n",
       " 'g.',\n",
       " ', predictive validity and investigating the nomological network — does the shortened measure have comparable predictions to the full length scale?',\n",
       " ').',\n",
       " ' Caveats This article introduced a two-step method to significantly reduce survey length while maximizing reliability and validity.',\n",
       " ' In the illustrative example with open-source personality data, the survey length was halved but maintained high levels of Cronbach and Omega reliability.',\n",
       " ' While additional steps may be required (e.',\n",
       " 'g.',\n",
       " ', replication and comparison of predictive validity), this method provides users a robust data-driven approach to substantially reduce their employee survey length, which can ultimately improve data quality, respondent dropout, and save employee time.',\n",
       " ' References E.',\n",
       " ' Cho and S.',\n",
       " ' Kim, Cronbach’s Coefficient Alpha: Well Known but Poorly Understood (2015), Organizational Research Methods, 18(2), 207–230.',\n",
       " ' J.',\n",
       " ' Colquitt, T.',\n",
       " ' Sabey, J.',\n",
       " ' Rodell and E.',\n",
       " ' Hill, Content validation guidelines: Evaluation criteria for definitional correspondence and definitional distinctiveness (2019), Journal of Applied Psychology, 104(10), 1243–1265.',\n",
       " ' J.',\n",
       " ' Cortina, Z.',\n",
       " ' Sheng, S.',\n",
       " ' Keener, K.',\n",
       " ' Keeler, L.',\n",
       " ' Grubb, N.',\n",
       " ' Schmitt, S.',\n",
       " ' Tonidandel, K.',\n",
       " ' Summerville, E.',\n",
       " ' Heggestad and G.',\n",
       " ' Banks, From alpha to omega and beyond!',\n",
       " ' A look at the past, present, and (possible) future of psychometric soundness in the Journal of Applied Psychology (2020), Journal of Applied Psychology, 105(12), 1351–1381.',\n",
       " ' P.',\n",
       " ' Edwards, I.',\n",
       " ' Roberts, M.',\n",
       " ' Clarke, C.',\n",
       " ' DiGuiseppi, S.',\n",
       " ' Pratap, R.',\n",
       " ' Wentz and I.',\n",
       " ' Kwan, Increasing response rates to postal questionnaires: systematic review (2002), BMJ, 324, 1–9.',\n",
       " ' M.',\n",
       " ' Galesic and M.',\n",
       " ' Bosnjak, Effects of questionnaire length on participation and indicators of response quality in a web survey (2009), Public Opinion Quarterly, 73(2), 349–360.',\n",
       " ' L.',\n",
       " ' Goldberg, The development of markers for the Big-Five factor structure (1992), Psychological Assessment, 4, 26–42.',\n",
       " ' T.',\n",
       " ' Hinkin, A Brief Tutorial on the Development of Measures for Use in Survey Questionnaires (1998), Organizational Research Methods, 1(1), 104–121.',\n",
       " ' T.',\n",
       " ' Hinkin and J.',\n",
       " ' Tracey, An Analysis of Variance Approach to Content Validation (1999), Organizational Research Methods, 2(2), 175–186.',\n",
       " ' M.',\n",
       " ' Hoerger, Participant dropout as a function of survey length in Internet-mediated university studies: Implications for study design and voluntary participation in psychological research (2010), Cyberpsychology, Behavior, and Social Networking, 13(6), 697–700.',\n",
       " ' B.',\n",
       " ' Holtom, Y.',\n",
       " ' Baruch, H.',\n",
       " ' Aguinis and G.',\n",
       " ' Ballinger, Survey response rates: Trends and a validity assessment framework (2022), Human Relations, 75(8), 1560–1584.',\n",
       " ' D.',\n",
       " ' Jeong, S.',\n",
       " ' Aggarwal, J.',\n",
       " ' Robinson, N.',\n",
       " ' Kumar, A.',\n",
       " ' Spearot and D.',\n",
       " ' Park, Exhaustive or exhausting?',\n",
       " ' Evidence on respondent fatigue in long surveys (2023), Journal of Development Economics, 161, 1–20.',\n",
       " ' P.',\n",
       " ' Levy, Industrial/organizational psychology: understanding the workplace (3rd ed.',\n",
       " ') (2010), Worth Publishers.',\n",
       " ' D.',\n",
       " ' McNeish, Thanks coefficient alpha, we’ll take it from here (2018), Psychological Methods, 23(3), 412–433.',\n",
       " ' A.',\n",
       " ' Peytchev and E.',\n",
       " ' Peytcheva, Reduction of Measurement Error due to Survey Length: Evaluation of the Split Questionnaire Design Approach (2017), Survey Research Methods, 4(11), 361–368.',\n",
       " ' S.',\n",
       " ' Porter, Raising Response Rates: What Works?',\n",
       " ' (2004), New Directions for Institutional Research, 5–21.',\n",
       " ' A.',\n",
       " ' Rolstad and A.',\n",
       " ' Rydén, Increasing Response Rates to Postal Questionnaires: Systematic Review (2002).',\n",
       " ' BMJ, 324.',\n",
       " ' R.',\n",
       " ' Warner, Applied statistics: from bivariate through multivariate techniques (2nd ed.',\n",
       " ') (2013), SAGE Publications.',\n",
       " ' F.',\n",
       " ' Yammarino, S.',\n",
       " ' Skinner and T.',\n",
       " ' Childers, Understanding Mail Survey Response Behavior a Meta-Analysis (1991), Public Opinion Quarterly, 55(4), 613–639.',\n",
       " ' -- -- Your home for data science.',\n",
       " ' A Medium publication sharing concepts, ideas and codes.',\n",
       " ' Yue He Matthew Arling Samson Christabelle Pabalan in USF-Data Science Kevin Balentine Karthik Ram in Dev Genius Siddarth Pai Leandro M Losaria Paulo C.',\n",
       " ' Rios Jr.',\n",
       " ' AboutHelpTermsPrivacy Consultant for Employee/Organizational Development Topics | PhD Candidate in I/O Psychology at Western University | Linkedin: bit.',\n",
       " 'ly/3FtntTV Help Status Writers Blog Careers Privacy Terms About Text to speech']"
      ]
     },
     "execution_count": 28,
     "metadata": {},
     "output_type": "execute_result"
    }
   ],
   "source": [
    "# Check for towards data science and ibm\n",
    "# towards data science\n",
    "article = df1[\"body text\"][20]\n",
    "clean_sents = create_sents(article)\n",
    "clean_sents"
   ]
  },
  {
   "cell_type": "markdown",
   "id": "0b04dee7",
   "metadata": {
    "pycharm": {
     "name": "#%% md\n"
    }
   },
   "source": [
    "Note that for TDS articles, everything after the string \" -- -- Your home for data science.\" is irrelevant, and that at the phrase \"Sign up Sign In Sign up Sign In Towards Data Science\" appears at the beginning of each article. "
   ]
  },
  {
   "cell_type": "code",
   "execution_count": 29,
   "id": "f4990bda",
   "metadata": {
    "scrolled": true,
    "pycharm": {
     "name": "#%%\n"
    }
   },
   "outputs": [
    {
     "data": {
      "text/plain": [
       "[' Jan 14 Save Employee surveys are quickly becoming a steadfast aspect of organizational life.',\n",
       " ' Indeed, the growth of the people analytics field and the adoption of a data-driven approach to talent management is a testament to this (see McKinsey report).',\n",
       " ' In one survey, we can gather information on how our leaders are performing, whether our workforce is motivated, and if employees are thinking about leaving.',\n",
       " ' There is just one rather long elephant in the room — our survey length.',\n",
       " ' The creators of employee surveys (e.',\n",
       " 'g.',\n",
       " ', HR and/or behavioral and data scientists) want to measure a multitude of important topics accurately, which often requires a large number of questions.',\n",
       " ' On the other hand, respondents who take long surveys are significantly more likely to dropout from a survey (Hoerger, 2010; Galesic & Bosnjak, 2009) and introduce measurement error (e.',\n",
       " 'g.',\n",
       " ', Peytchev & Peytcheva, 2017; Holtom et al.',\n",
       " ', 2022).',\n",
       " ' Despite this, a greater percentage of respondents are engaging with surveys: published studies in organizational behavior literature have reported a substantial increase in respondent rates from 48% to 68% in a 15-year period (2005–2020; Holtom et al.',\n",
       " ', 2022).',\n",
       " ' While survey length is only one factor amongst a myriad that determine data quality and respondent rates (e.',\n",
       " 'g.',\n",
       " ', incentives, follow-ups; Edwards et al.',\n",
       " ', 2002; Holtom et al.',\n",
       " ', 2022), survey length is easily malleable and under the direct control of survey creators.',\n",
       " ' This article presents a method to shorten employee surveys by selecting the least amount of items possible to achieve maximal desirable item-level characteristics, reliability, and validity.',\n",
       " ' Through this method, employee surveys can be shortened to save employee time, while hopefully improving participation/dropout rates and measurement error that are common concerns in longer surveys (e.',\n",
       " 'g.',\n",
       " ', Edwards et al.',\n",
       " ', 2002; Holtom et al.',\n",
       " ', 2022; Jeong et al.',\n",
       " ', 2023; Peytchev & Peytcheva, 2017; Porter, 2004; Rolstad et al.',\n",
       " ', 2011; Yammarino et al.',\n",
       " ', 1991).',\n",
       " ' The Monetary Benefit of Survey Shortening Not convinced?',\n",
       " ' Let’s look at the tangible monetary benefits of shortening a survey.',\n",
       " ' As an illustrative example, let’s calculate the return-on-investment if we shorten a quarterly 15 minute survey to 10 minutes for a large organization of 100,000 individuals (e.',\n",
       " 'g.',\n",
       " ', company in fortune 100).',\n",
       " ' Using the median salary of workers in the United States ($56,287; see report by the U.',\n",
       " 'S.',\n",
       " ' Census), shortening a survey by 5 minutes can save the organization over $1 million in employee time.',\n",
       " ' While these calculations aren’t an exact science, it is a useful metric to understand how survey time can equate into the bottom-line of an organization.',\n",
       " ' The Solution: Shortening Employee Surveys To shorten our surveys but retain desirable item-level statistics, reliability, and validity, we leverage a two-step process where Python and R programs will help determine the optimal items to retain.',\n",
       " ' In step 1, we will utilize a multiple-criteria decision making (MCDM) program (Scikit-criteria) to select the best performing items based upon several criteria (standard deviation, skewness, kurtosis, and subject matter expert ratings).',\n",
       " ' In step 2, we will utilize an R program (OASIS; Cortina et al.',\n",
       " ', 2020) to select the optimal combination of top ranked items from step 1 to further shorten our scale but maintain maximal reliability and other validity concerns.',\n",
       " ' In short, the final output will be a reduced set of items that have desirable item-level statistics and maximal reliability and validity.',\n",
       " ' Who is this methodology for?',\n",
       " ' What do you need?',\n",
       " ' Github page for code: https://github.',\n",
       " 'com/TrevorCoppins/SurveyReductionCode Please note: All images, unless otherwise noted, are by the author Item-level Statistics Explanation For ‘pure’ item-level statistics (or properties of each item), we utilize standard deviation (i.',\n",
       " 'e.',\n",
       " ', on average, how much do respondents vary in responses) and skewness and kurtosis (i.',\n",
       " 'e.',\n",
       " ', how asymmetrical the distribution of data is and how far it departs from the ideal ‘peakness’ of a normal distribution).',\n",
       " ' A moderate amount of standard deviation is desirable for each item because most of our constructs (e.',\n",
       " 'g.',\n",
       " ', job satisfaction, motivation) naturally differ between individuals.',\n",
       " ' This variability between individuals is what we utilize to make predictions (e.',\n",
       " 'g.',\n",
       " ', “why does the sales department have higher job satisfaction than the research and development department?',\n",
       " '”).',\n",
       " ' For skewness and kurtosis, we ideally want minimal levels because this indicates our data is normally distributed and is an assumption for a vast majority of our statistical models (e.',\n",
       " 'g.',\n",
       " ', regression).',\n",
       " ' While some skewness and kurtosis are acceptable or even normal dependent on the construct, the real problem arises when distribution of scores has a large difference from a normal distribution (Warner, 2013).',\n",
       " ' Note: Some variables are not naturally normally distributed and should not be utilized here.',\n",
       " ' For example, frequency data for the question: “In the last month, have you experienced a workplace accident?',\n",
       " '” is a true non-normal distribution because a vast majority would select ‘None’ (or 0).',\n",
       " ' Item-level Analysis and MCDM First, we need to install some programs that are required for later analyses.',\n",
       " ' The first of which is the MCDM program: scikit-criteria (see documentation here; with the Conda install, it may take a minute or two).',\n",
       " ' We also need to import pandas, skcriteria, and the skew and kurtosis modules of scipy.',\n",
       " 'stats.',\n",
       " ' Data Input Next, we need to choose our data: 1) your own dataset or 2) practice dataset (as discussed above, I utilized the first 1000 responses on 10 items of conscientiousness from an open-source dataset of the IPIP-50).',\n",
       " ' Note: if you are using your own dataset, you will need to clean your data prior to the rest of the analyses (e.',\n",
       " 'g.',\n",
       " ', deal with missing data).',\n",
       " ' If you are using the practice dataset, some items need to be recoded (see here for scoring key).',\n",
       " ' This ensures that all responses are on the same direction for our likert-scale responses (e.',\n",
       " 'g.',\n",
       " ', 5 represents highly conscientious responses across all items).',\n",
       " ' Note: For this method, you should only work on one measure or ‘scale’ at a time.',\n",
       " ' For example, if you want to shorten your job satisfaction and organizational culture measures, conduct this analysis separately for each measure.',\n",
       " ' Generating Item-level Statistics Next, we gather all of the item-level statistics that we need for scikit-criteria to help make our final ranking of optimal items.',\n",
       " ' This includes standard deviation, skewness, and kurtosis.',\n",
       " ' It should be noted that kurtosis program here utilizes Fisher’s Kurtosis, where a normal distribution has 0 kurtosis.',\n",
       " ' OPTIONAL: Subject Matter Expert Ratings (Definitional Correspondence) While optional, it is highly recommended to gather subject matter expert (SME) ratings if you are establishing a new scale or measure in your academic or applied work.',\n",
       " ' In general, SME ratings help establish content validity or definitional correspondence, which is how well your items correspond to the provided definition (Hinkin & Tracey, 1999).',\n",
       " ' This method involves surveying a few individuals on how closely an item corresponds to a definition you provide on a likert-scale of 1 (Not at all) to 5 (Completely).',\n",
       " ' As outlined in Colquitt et al.',\n",
       " ' (2019), we can even calculate a HTC index with this information: average definitional correspondence rating / number of possible anchors.',\n",
       " ' For example, if 5 SMEs’ mean correspondence rating of item i was 4.',\n",
       " '20: 4.',\n",
       " '20/5 = 0.',\n",
       " '84.',\n",
       " ' If you have collected SME ratings, you should format and include them here as a separate dataframe.',\n",
       " ' Note: you should format SME ratings into a singular column, with each item listed as a row.',\n",
       " ' This will make it possible to merge the different dataframes.',\n",
       " ' Merging Data and Absolute Values Now, we simply merge these disparate data frames of SME (optional) and item-level statistics.',\n",
       " ' The names of the items need to match across dataframes or else pandas will add additional rows.',\n",
       " ' Then, we transpose our data to match our final scikit-criteria program requirements.',\n",
       " ' Lastly, since skewness and kurtosis can range from negative to positive values, we take the absolute value because it is easier to work with.',\n",
       " ' Scikit-criteria Decision-matrix and Ranking Items Now we utilize the scikit-criteria decision-making program to rank these items based upon multiple criteria.',\n",
       " ' As can be seen below, we must pass the values of our dataframe (mergeddata.',\n",
       " 'values), input objectives for each criteria (e.',\n",
       " 'g.',\n",
       " ', if maximum or minimum is more desirable), and weights.',\n",
       " ' While the default code has equal weights for each criteria, if you utilize SME ratings I would highly suggest assigning more weight to these ratings.',\n",
       " ' Other item-level statistics are only important if we are measuring the construct we intend to measure!',\n",
       " ' Finally, alternatives and criteria are simply the names passed into the scikit-criteria package to make sense of our output.',\n",
       " ' Filters One of the greatest parts about scikit-criteria is their filters function.',\n",
       " ' This allows us to filter out undesirable item-level statistics and prevent these items from making it to the final selection ranking stage.',\n",
       " ' For example, we do not want an item reaching the final selection stage if they have extremely high standard deviation — this indicates respondents vary wildly in their answer to questions.',\n",
       " ' For SME ratings (described above as optional), this is especially important.',\n",
       " ' Here, we can only request items to be retained if they score above a minimal threshold — this prevents items that have extremely poor definitional correspondence (e.',\n",
       " 'g.',\n",
       " ', average SME rating of 1 or 2) from being a top ranked item if they have other desirable item-level statistics.',\n",
       " ' Below is an application of filters, but since our data is already within these value limits it does not impact our final result.',\n",
       " ' Note: This can also be applied for skewness and kurtosis values.',\n",
       " ' Many scientists will utilize a general rule-of-thumb where skewness and kurtosis is acceptable between -1.',\n",
       " '00 and +1.',\n",
       " '00 (Warner, 2013); you would simply create upper and lower level limit filters as shown above with standard deviation.',\n",
       " ' Inversion and Scaling Criteria Next, we invert our skewness and kurtosis values to make all criteria maximal through invert_objects.',\n",
       " 'InvertMinimize().',\n",
       " ' The scikit-criteira program prefers all criteria to be maximized as it is easier for the final step (e.',\n",
       " 'g.',\n",
       " ', sum weights).',\n",
       " ' Finally, we scale each criteria for easy comparison and weight summation.',\n",
       " ' Each value is divided by the sum of all criteria in that column to have an easy comparison of optimal value for each criterion (e.',\n",
       " 'g.',\n",
       " ', it1 has an SD of 1.',\n",
       " '199, which is divided by the column total of 12.',\n",
       " '031 to obtain .',\n",
       " '099).',\n",
       " ' Final Rankings (Sum Weights) Finally, there are a variety of ways we can use this decision-matrix, but one of the easiest ways is to calculate the weighted sum.',\n",
       " ' Here, each item’s row is summated (e.',\n",
       " 'g.',\n",
       " ', SD + skewness + kurtosis) and then ranked by the program.',\n",
       " ' For the practice dataset, the rankings are as follows: Save Data for Step Two Lastly, we save our original and clean dataset for step two (here, our original ‘Data’ dataframe, not our decision matrix ‘dmatfinal’).',\n",
       " ' In step two, we will input items that have been highly ranked in step one.',\n",
       " ' In step one, we ranked all our items according to their item-level statistics.',\n",
       " ' Now, we utilize the Optimization App for Selecting Item Subsets (OASIS) calculator in R, which was developed by Cortina et al.',\n",
       " ' (2020; see user guide).',\n",
       " ' The OASIS calculator runs multiple combinations of our items and determines which combination of items results in the highest level of reliability (and convergent + divergent validity if applicable).',\n",
       " ' For this example, we focus on two common reliability indices: cronbach’s alpha and omega.',\n",
       " ' These indices are typically extremely similar in value, however, many researchers have advocated for omega to be the main reliability indices for a variety of reasons (See Cho & Kim, 2015; McNeish, 2018).',\n",
       " ' Omega is a measure of reliability which determines how well a set of items load onto a singular ‘factor’ (e.',\n",
       " 'g.',\n",
       " ', a construct, such as job satisfaction).',\n",
       " \" Similar to Cronbach's alpha (a measure of internal reliability), higher values are more desirable, where values above .\",\n",
       " '70 (max upper limit = 1.',\n",
       " '00) are generally considered reliable in academic research.',\n",
       " ' The OASIS calculator is extremely easy to use due to the shiny app.',\n",
       " ' The following code will install required programs and prompt a pop-up box (as seen below).',\n",
       " ' Now, we select our original cleaned dataset from step one.',\n",
       " ' In our illustrative example, I have selected the top 8 items, requested a minimum of 3 items and a maximum of 8.',\n",
       " ' If you had convergent or divergent validity measures, you can input them in this step.',\n",
       " ' Otherwise, we request for the calculation of omega-h.',\n",
       " ' The Final Results As can be seen below, a 5-item solution produced the highest omega (ω = .',\n",
       " '73) and Cronbach alpha coefficients (α = .',\n",
       " '75) which met traditional academic reliability standards.',\n",
       " ' If we had convergent and divergent validity measures, we could also rank item combinations using these values as well.',\n",
       " ' The OASIS calculator also lets you select general ranges for each value (e.',\n",
       " 'g.',\n",
       " ', only show combinations above certain values).',\n",
       " ' Let’s compare our final solution: In comparison to the full 10-item measure, our final item set takes half the time to administer, has comparable and acceptable levels of reliability (ω and α >.',\n",
       " '70), slightly higher standard deviation and lower skewness, but unfortunately higher levels of kurtosis (however, it is still within the acceptable range of -1.',\n",
       " '00 to +1.',\n",
       " '00).',\n",
       " ' This final shortened item-set could be a very suitable candidate to replace the full measure.',\n",
       " ' If successfully replicated for all survey measures, this could substantially reduce survey length in half.',\n",
       " ' Users may want to take additional steps to verify the new shortened measure works as intended (e.',\n",
       " 'g.',\n",
       " ', predictive validity and investigating the nomological network — does the shortened measure have comparable predictions to the full length scale?',\n",
       " ').',\n",
       " ' Caveats This article introduced a two-step method to significantly reduce survey length while maximizing reliability and validity.',\n",
       " ' In the illustrative example with open-source personality data, the survey length was halved but maintained high levels of Cronbach and Omega reliability.',\n",
       " ' While additional steps may be required (e.',\n",
       " 'g.',\n",
       " ', replication and comparison of predictive validity), this method provides users a robust data-driven approach to substantially reduce their employee survey length, which can ultimately improve data quality, respondent dropout, and save employee time.',\n",
       " ' References E.',\n",
       " ' Cho and S.',\n",
       " ' Kim, Cronbach’s Coefficient Alpha: Well Known but Poorly Understood (2015), Organizational Research Methods, 18(2), 207–230.',\n",
       " ' J.',\n",
       " ' Colquitt, T.',\n",
       " ' Sabey, J.',\n",
       " ' Rodell and E.',\n",
       " ' Hill, Content validation guidelines: Evaluation criteria for definitional correspondence and definitional distinctiveness (2019), Journal of Applied Psychology, 104(10), 1243–1265.',\n",
       " ' J.',\n",
       " ' Cortina, Z.',\n",
       " ' Sheng, S.',\n",
       " ' Keener, K.',\n",
       " ' Keeler, L.',\n",
       " ' Grubb, N.',\n",
       " ' Schmitt, S.',\n",
       " ' Tonidandel, K.',\n",
       " ' Summerville, E.',\n",
       " ' Heggestad and G.',\n",
       " ' Banks, From alpha to omega and beyond!',\n",
       " ' A look at the past, present, and (possible) future of psychometric soundness in the Journal of Applied Psychology (2020), Journal of Applied Psychology, 105(12), 1351–1381.',\n",
       " ' P.',\n",
       " ' Edwards, I.',\n",
       " ' Roberts, M.',\n",
       " ' Clarke, C.',\n",
       " ' DiGuiseppi, S.',\n",
       " ' Pratap, R.',\n",
       " ' Wentz and I.',\n",
       " ' Kwan, Increasing response rates to postal questionnaires: systematic review (2002), BMJ, 324, 1–9.',\n",
       " ' M.',\n",
       " ' Galesic and M.',\n",
       " ' Bosnjak, Effects of questionnaire length on participation and indicators of response quality in a web survey (2009), Public Opinion Quarterly, 73(2), 349–360.',\n",
       " ' L.',\n",
       " ' Goldberg, The development of markers for the Big-Five factor structure (1992), Psychological Assessment, 4, 26–42.',\n",
       " ' T.',\n",
       " ' Hinkin, A Brief Tutorial on the Development of Measures for Use in Survey Questionnaires (1998), Organizational Research Methods, 1(1), 104–121.',\n",
       " ' T.',\n",
       " ' Hinkin and J.',\n",
       " ' Tracey, An Analysis of Variance Approach to Content Validation (1999), Organizational Research Methods, 2(2), 175–186.',\n",
       " ' M.',\n",
       " ' Hoerger, Participant dropout as a function of survey length in Internet-mediated university studies: Implications for study design and voluntary participation in psychological research (2010), Cyberpsychology, Behavior, and Social Networking, 13(6), 697–700.',\n",
       " ' B.',\n",
       " ' Holtom, Y.',\n",
       " ' Baruch, H.',\n",
       " ' Aguinis and G.',\n",
       " ' Ballinger, Survey response rates: Trends and a validity assessment framework (2022), Human Relations, 75(8), 1560–1584.',\n",
       " ' D.',\n",
       " ' Jeong, S.',\n",
       " ' Aggarwal, J.',\n",
       " ' Robinson, N.',\n",
       " ' Kumar, A.',\n",
       " ' Spearot and D.',\n",
       " ' Park, Exhaustive or exhausting?',\n",
       " ' Evidence on respondent fatigue in long surveys (2023), Journal of Development Economics, 161, 1–20.',\n",
       " ' P.',\n",
       " ' Levy, Industrial/organizational psychology: understanding the workplace (3rd ed.',\n",
       " ') (2010), Worth Publishers.',\n",
       " ' D.',\n",
       " ' McNeish, Thanks coefficient alpha, we’ll take it from here (2018), Psychological Methods, 23(3), 412–433.',\n",
       " ' A.',\n",
       " ' Peytchev and E.',\n",
       " ' Peytcheva, Reduction of Measurement Error due to Survey Length: Evaluation of the Split Questionnaire Design Approach (2017), Survey Research Methods, 4(11), 361–368.',\n",
       " ' S.',\n",
       " ' Porter, Raising Response Rates: What Works?',\n",
       " ' (2004), New Directions for Institutional Research, 5–21.',\n",
       " ' A.',\n",
       " ' Rolstad and A.',\n",
       " ' Rydén, Increasing Response Rates to Postal Questionnaires: Systematic Review (2002).',\n",
       " ' BMJ, 324.',\n",
       " ' R.',\n",
       " ' Warner, Applied statistics: from bivariate through multivariate techniques (2nd ed.',\n",
       " ') (2013), SAGE Publications.',\n",
       " ' F.',\n",
       " ' Yammarino, S.',\n",
       " ' Skinner and T.',\n",
       " ' Childers, Understanding Mail Survey Response Behavior a Meta-Analysis (1991), Public Opinion Quarterly, 55(4), 613–639.']"
      ]
     },
     "execution_count": 29,
     "metadata": {},
     "output_type": "execute_result"
    }
   ],
   "source": [
    "clean_sents[0] = re.sub(r\"Sign up Sign In Sign up Sign In Towards Data Science\", \"\", clean_sents[0])\n",
    "clean_sents[:filter_rel(clean_sents, '-- -- Your home for data science.')]"
   ]
  },
  {
   "cell_type": "code",
   "execution_count": 30,
   "id": "cdb443fb",
   "metadata": {
    "scrolled": false,
    "pycharm": {
     "name": "#%%\n"
    }
   },
   "outputs": [
    {
     "data": {
      "text/plain": [
       "['\\n      By\\n                        Investor Relations\\n  \\n\\n        1 min\\n            \\n\\n In January 2022, IBM took another step in the execution of a more focused platform-based hybrid cloud and AI strategy with the announcement of the divestiture of our healthcare data and analytics assets.',\n",
       " ' A copy of the announcement press release including the strategic rationale is available here.',\n",
       " ' The healthcare data and analytics assets to be divested have been reported in Hybrid Platform & Solutions within IBM’s Software segment.',\n",
       " ' During the first quarter of 2022, we realigned our management structure to have these assets managed outside the Software segment in advance of the divestiture.',\n",
       " ' As a result, starting in the first quarter, the financial results of these assets will be reflected in Other – divested businesses (Other).',\n",
       " ' The movement of historical financials to Other is consistent with the treatment of select other divested software and services content, and results in a Software segment more closely aligned to its go-forward business.',\n",
       " ' There is no change to IBM Consolidated results, and only the Software segment and Other are affected.',\n",
       " '  We are providing recast historical financials today to allow investors and analysts to update their Software segment models ahead of the first quarter earnings report in April.',\n",
       " '   Download a PDF of this article (46 KB)']"
      ]
     },
     "execution_count": 30,
     "metadata": {},
     "output_type": "execute_result"
    }
   ],
   "source": [
    "# IBM\n",
    "article = df1[\"body text\"][11]\n",
    "clean_sents = create_sents(article)\n",
    "clean_sents"
   ]
  },
  {
   "cell_type": "code",
   "execution_count": 31,
   "id": "4c6e44cd",
   "metadata": {
    "scrolled": true,
    "pycharm": {
     "name": "#%%\n"
    }
   },
   "outputs": [
    {
     "data": {
      "text/plain": [
       "[' In January 2022, IBM took another step in the execution of a more focused platform-based hybrid cloud and AI strategy with the announcement of the divestiture of our healthcare data and analytics assets.',\n",
       " ' A copy of the announcement press release including the strategic rationale is available here.',\n",
       " ' The healthcare data and analytics assets to be divested have been reported in Hybrid Platform & Solutions within IBM’s Software segment.',\n",
       " ' During the first quarter of 2022, we realigned our management structure to have these assets managed outside the Software segment in advance of the divestiture.',\n",
       " ' As a result, starting in the first quarter, the financial results of these assets will be reflected in Other – divested businesses (Other).',\n",
       " ' The movement of historical financials to Other is consistent with the treatment of select other divested software and services content, and results in a Software segment more closely aligned to its go-forward business.',\n",
       " ' There is no change to IBM Consolidated results, and only the Software segment and Other are affected.',\n",
       " '  We are providing recast historical financials today to allow investors and analysts to update their Software segment models ahead of the first quarter earnings report in April.',\n",
       " '  ']"
      ]
     },
     "execution_count": 31,
     "metadata": {},
     "output_type": "execute_result"
    }
   ],
   "source": [
    "clean_sents[0] = re.sub(\"\\n [^>]+ \\n\", \"\", clean_sents[0])\n",
    "clean_sents[0] = re.sub(\"\\n\", \"\", clean_sents[0])\n",
    "clean_sents[-1] = re.sub(\" Download a PDF of this article [^>]+\", \"\", clean_sents[-1])\n",
    "clean_sents"
   ]
  },
  {
   "cell_type": "markdown",
   "id": "b9b87010",
   "metadata": {
    "pycharm": {
     "name": "#%% md\n"
    }
   },
   "source": [
    "### Chunker\n",
    "Summariser we use works best with data < 512 words"
   ]
  },
  {
   "cell_type": "code",
   "execution_count": 32,
   "id": "0a027946",
   "metadata": {
    "pycharm": {
     "name": "#%%\n"
    }
   },
   "outputs": [],
   "source": [
    "# Function to chunk text into blocks based on max size\n",
    "\n",
    "def chunker(sents, max, display = True):\n",
    "    chunk_size = max\n",
    "    chunks = []\n",
    "    chunk = 0\n",
    "\n",
    "    # Chunk according to max size\n",
    "    for i in sents:\n",
    "        words = i.split(\" \")\n",
    "        if len(chunks) == chunk + 1:\n",
    "            if len(chunks[chunk])  + len(words) < chunk_size:\n",
    "                chunks[chunk].extend(words)\n",
    "            else:\n",
    "                chunk += 1\n",
    "                chunks.append(words)\n",
    "        else:\n",
    "            chunks.append(words)\n",
    "\n",
    "    # Join back into string format\n",
    "    for i in range(len(chunks)):\n",
    "        chunks[i] = \" \".join(chunks[i])\n",
    "        \n",
    "    # results\n",
    "    # Check lengths of chunks\n",
    "    if display is True:\n",
    "        for i in range(len(chunks)):\n",
    "            num = len(chunks[i].split(\" \"))\n",
    "            print(f\"Length of Chunk {i+1}: {num}\")\n",
    "    \n",
    "    return chunks "
   ]
  },
  {
   "cell_type": "code",
   "execution_count": 33,
   "id": "17d284ae",
   "metadata": {
    "scrolled": true,
    "pycharm": {
     "name": "#%%\n"
    }
   },
   "outputs": [
    {
     "name": "stdout",
     "output_type": "stream",
     "text": [
      "Length of Chunk 1: 205\n"
     ]
    },
    {
     "data": {
      "text/plain": [
       "[' In January 2022, IBM took another step in the execution of a more focused platform-based hybrid cloud and AI strategy with the announcement of the divestiture of our healthcare data and analytics assets.  A copy of the announcement press release including the strategic rationale is available here.  The healthcare data and analytics assets to be divested have been reported in Hybrid Platform & Solutions within IBM’s Software segment.  During the first quarter of 2022, we realigned our management structure to have these assets managed outside the Software segment in advance of the divestiture.  As a result, starting in the first quarter, the financial results of these assets will be reflected in Other – divested businesses (Other).  The movement of historical financials to Other is consistent with the treatment of select other divested software and services content, and results in a Software segment more closely aligned to its go-forward business.  There is no change to IBM Consolidated results, and only the Software segment and Other are affected.   We are providing recast historical financials today to allow investors and analysts to update their Software segment models ahead of the first quarter earnings report in April.   ']"
      ]
     },
     "execution_count": 33,
     "metadata": {},
     "output_type": "execute_result"
    }
   ],
   "source": [
    "chunks = chunker(clean_sents, 500)\n",
    "chunks"
   ]
  },
  {
   "cell_type": "markdown",
   "id": "2d52cce6",
   "metadata": {
    "pycharm": {
     "name": "#%% md\n"
    }
   },
   "source": [
    "### Summariser"
   ]
  },
  {
   "cell_type": "code",
   "execution_count": 34,
   "id": "5642927d",
   "metadata": {
    "pycharm": {
     "name": "#%%\n"
    }
   },
   "outputs": [
    {
     "name": "stderr",
     "output_type": "stream",
     "text": [
      "All model checkpoint layers were used when initializing TFT5ForConditionalGeneration.\n",
      "\n",
      "All the layers of TFT5ForConditionalGeneration were initialized from the model checkpoint at t5-small.\n",
      "If your task is similar to the task the model of the checkpoint was trained on, you can already use TFT5ForConditionalGeneration for predictions without further training.\n"
     ]
    }
   ],
   "source": [
    "# Initialise model\n",
    "summariser = pipeline(\"summarization\", model = \"t5-small\")\n",
    "\n",
    "def summarise_chunks(chunks):\n",
    "    result = summariser(chunks, max_length = 50, min_length = 0, do_sample = False)\n",
    "    result = \" \".join([i[\"summary_text\"] for i in result])\n",
    "    return result"
   ]
  },
  {
   "cell_type": "code",
   "execution_count": 35,
   "id": "0efac51f",
   "metadata": {
    "pycharm": {
     "name": "#%%\n"
    }
   },
   "outputs": [
    {
     "name": "stdout",
     "output_type": "stream",
     "text": [
      "the healthcare data and analytics assets to be divested have been reported in Hybrid Platform & Solutions within IBM’s Software segment . a copy of the announcement press release including the strategic rationale is available here .\n"
     ]
    }
   ],
   "source": [
    "print(summarise_chunks(chunks))"
   ]
  },
  {
   "cell_type": "markdown",
   "id": "d1c1326b",
   "metadata": {
    "pycharm": {
     "name": "#%% md\n"
    }
   },
   "source": [
    "### Testing"
   ]
  },
  {
   "cell_type": "code",
   "execution_count": 36,
   "id": "943315d8",
   "metadata": {
    "scrolled": true,
    "pycharm": {
     "name": "#%%\n"
    }
   },
   "outputs": [
    {
     "name": "stderr",
     "output_type": "stream",
     "text": [
      "Token indices sequence length is longer than the specified maximum sequence length for this model (625 > 512). Running this sequence through the model will result in indexing errors\n"
     ]
    },
    {
     "name": "stdout",
     "output_type": "stream",
     "text": [
      "------------------------------------------------------------ Article 1 ------------------------------------------------------------\n",
      "Title: At least 68 killed in Nepal's worst air crash in three decades\n",
      "(www.reuters.com)\n",
      "Summary:a domestic flight of Yeti Airlines crashed in Pokhara in western Nepal . it was the worst air crash in three decades in the small Himalayan nation . almost 350 people have died in plane or helicopter crashes since 2000  the plane crashed as it approached the airport, a spokesman says . it was 15 years old and equipped with an old transponder with unreliable data . the last signal was received at 0512 GMT at an\n",
      "----------------------------------------------------------------------------------------------------------------------------------\n",
      "\n",
      "------------------------------------------------------------ Article 2 ------------------------------------------------------------\n",
      "Title: Rescue hopes fade after Russian attack on Dnipro\n",
      "(www.reuters.com)\n",
      "Summary:a series of fighters, helicopters and military transport planes have been coming to Belarus . the situation on the border with Ukraine is \"not very calm,\" a state official says . between 30 and 40 people could still be the air force says the apartment block was struck by a Russian Kh-22 missile . the missile was developed during the Cold War to destroy warships . western powers are considering sending battle tanks to Kyiv .\n",
      "----------------------------------------------------------------------------------------------------------------------------------\n",
      "\n",
      "------------------------------------------------------------ Article 3 ------------------------------------------------------------\n",
      "Title: One year after volcanic blast, many of Tonga's reefs lie silent\n",
      "(www.reuters.com)\n",
      "Summary:ash smothered many reefs, depriving fish of feeding areas and spawning beds . coral reefs were turned to rubble and many fish perished or migrated away . the disaster worsene tonga's volcanic ash blanketed 99% of the country . soil tests revealed the fallen ash was not harmful for humans . scientists are now taking stock of the impact of the eruption on the atmosphere .\n",
      "----------------------------------------------------------------------------------------------------------------------------------\n",
      "\n",
      "------------------------------------------------------------ Article 4 ------------------------------------------------------------\n",
      "Title: China, Hong Kong resume high-speed rail link after three years of COVID curbs\n",
      "(www.reuters.com)\n",
      "Summary:china resumes high-speed rail services between Hong Kong and mainland . the re-opening comes amidst a massive wave of infections nationwide . nearly 60,000 people with COVID have died in hospital . customs in china seized 380 boxes of suspected smuggled drugs last week . the items were found in two places, one at the international airport in an air parcel arriving from India on Jan. 11 .\n",
      "----------------------------------------------------------------------------------------------------------------------------------\n",
      "\n",
      "------------------------------------------------------------ Article 5 ------------------------------------------------------------\n",
      "Title: Strikes in Britain set to intensify as teacher ballot results due\n",
      "(www.reuters.com)\n",
      "Summary:teachers are ready to announce industrial action, according to the Sunday Times . strike ballot among teachers from the national education union due at 1700 GMT on Monday . nurses warned their strikes could double in size next month .\n",
      "----------------------------------------------------------------------------------------------------------------------------------\n",
      "\n",
      "------------------------------------------------------------ Article 6 ------------------------------------------------------------\n",
      "Title: Biden declares emergencies for California storms, Alabama tornadoes\n",
      "(www.reuters.com)\n",
      "Summary:president's action makes federal funding available to affected individuals in Merced, Sacramento and Santa Cruz counties . at least nine people died in tornadoes that knocked out power to tens of thousands .\n",
      "----------------------------------------------------------------------------------------------------------------------------------\n",
      "\n",
      "------------------------------------------------------------ Article 7 ------------------------------------------------------------\n",
      "Title: In tribute to rights leader King, Biden invokes 'battle for the soul of this nation'\n",
      "(www.reuters.com)\n",
      "Summary:president says he stands at a \"critical juncture for the united states and the world in my view\" he will meet with civil rights advocate al Sharpton in washington, and speak to his group .\n",
      "----------------------------------------------------------------------------------------------------------------------------------\n",
      "\n",
      "------------------------------------------------------------ Article 8 ------------------------------------------------------------\n",
      "Title: Biden documents bungle seen as political black eye before 2024 launch\n",
      "(www.reuters.com)\n",
      "Summary:a special counsel has been appointed to probe the president's handling of classified documents . he says the documents were inadvertently misplaced . the former president questioned when his homes would be searched . legal experts highlighted differences between the two cases . a communications adviser said the issue would still pose questions for voters .\n",
      "----------------------------------------------------------------------------------------------------------------------------------\n",
      "\n",
      "------------------------------------------------------------ Article 9 ------------------------------------------------------------\n",
      "Title: Wall St banks stockpile funds, see uncertain outlook and competition for deposits\n",
      "(www.reuters.com)\n",
      "Summary:banks stockpiled more rainy-day funds to prepare for a possible recession . the outlook for big U. S. banks has been clouded by the Russia-Ukraine conflict . higher borrowing costs as the U. banking industry is witnessing a trend of deposits going into treasury markets directly or money market funds that offer higher yields . analysts in a note said that JPM's guidance on NII of $74\n",
      "----------------------------------------------------------------------------------------------------------------------------------\n",
      "\n",
      "------------------------------------------------------------ Article 10 ------------------------------------------------------------\n",
      "Title: Bitcoin rises 5.6% to $21,044\n",
      "(www.reuters.com)\n",
      "Summary:bitcoin rose 5. 58% to $21,044 at 2344 GMT on Saturday . it is up 27.6% from the year's low of $16,496 on Jan 1 .\n",
      "----------------------------------------------------------------------------------------------------------------------------------\n",
      "\n",
      "------------------------------------------------------------ Article 11 ------------------------------------------------------------\n",
      "Title:                       IBM Transfers a Portion of U.S. Pension Obligations              \n",
      "(www.ibm.com)\n",
      "Summary:on September 13, 2022, IBM filed an 8-K describing the transfer of a portion of its U.S. qualified defined benefit pension plan obligations to The Prudential Insurance Company of America and Metropolitan Life Insurance Company . the\n",
      "----------------------------------------------------------------------------------------------------------------------------------\n",
      "\n",
      "------------------------------------------------------------ Article 12 ------------------------------------------------------------\n",
      "Title:                       IBM Provides Historical Software Segment Data to Reflect Announced Divestiture              \n",
      "(www.ibm.com)\n",
      "Summary:the healthcare data and analytics assets to be divested have been reported in Hybrid Platform & Solutions within IBM’s Software segment . a copy of the announcement press release including the strategic rationale is available here .\n",
      "----------------------------------------------------------------------------------------------------------------------------------\n",
      "\n",
      "------------------------------------------------------------ Article 13 ------------------------------------------------------------\n",
      "Title:                       IBM Provides Historical Data in Preparation for Reporting Changes              \n",
      "(www.ibm.com)\n",
      "Summary:this article is the last in a series of IBM is posting to help investors understand its historical financials following the separation of Kyndryl . as a result of the separation, IBM is now providing recast historical results on  the company will report under a continuing operations basis with the new structure starting with its fourth quarter 2021 results . additional information about IBM can be found on its investor website at www.ibm. com/investor.\n",
      "----------------------------------------------------------------------------------------------------------------------------------\n",
      "\n"
     ]
    },
    {
     "name": "stdout",
     "output_type": "stream",
     "text": [
      "------------------------------------------------------------ Article 14 ------------------------------------------------------------\n",
      "Title:                       IBM Provides Additional Information on 4Q21 Discontinued Operations              \n",
      "(www.ibm.com)\n",
      "Summary:this article builds on the information provided in the articles posted in september and early November of this year . it builds on information provided during the third quarter earnings webcast in October . this will allow investors and analysts to update their fourth quarter any forward-looking statement made speaks only as of the date on which it is made . the company is not able to provide a reconciliation of this non-GAAP measure to the corresponding GAAP measure .\n",
      "----------------------------------------------------------------------------------------------------------------------------------\n",
      "\n",
      "------------------------------------------------------------ Article 15 ------------------------------------------------------------\n",
      "Title:                       IBM to Update Management System and Reporting Segments              \n",
      "(www.ibm.com)\n",
      "Summary:IBM will host its 2021 Investor Briefing to update investors on its hybrid cloud and AI strategy and go-forward business and financial profile . the event will take effect immediately prior to the separation of its managed infrastructure services business . revenue growth rates will be provided for two key areas within Hybrid Infrastructure . effective immediately prior to Kyndryl separation Download a PDF of this article.\n",
      "----------------------------------------------------------------------------------------------------------------------------------\n",
      "\n",
      "------------------------------------------------------------ Article 16 ------------------------------------------------------------\n",
      "Title:                       IBM Announces Kyndryl Form 10 Filing Related to Separation              \n",
      "(www.ibm.com)\n",
      "Summary:the separation of Kyndryl creates two industry-leading companies . each of these companies will have increased clarity and ability to focus on their respective operating and financial models . IBM is providing a preliminary view of its 2020 post-separation revenue and free cash flow baseline . the form 10 filed on September 28, 2021 is subject to change and will be made final prior to the effective date .\n",
      "----------------------------------------------------------------------------------------------------------------------------------\n",
      "\n",
      "------------------------------------------------------------ Article 17 ------------------------------------------------------------\n",
      "Title:                       Strategic Update on IBM Global Financing              \n",
      "(www.ibm.com)\n",
      "Summary:IGF is the captive financing business of IBM that includes client and commercial financing as well as a hardware remanufacturing and remarketing business . this action has improved its go-forward financial and risk profiles . IBM’s future reporting will provide enhanced IGF segment disclosures including a separate segment balance sheet and additional relevant information previously reported in the IBM Credit SEC filings.\n",
      "----------------------------------------------------------------------------------------------------------------------------------\n",
      "\n",
      "------------------------------------------------------------ Article 18 ------------------------------------------------------------\n",
      "Title:                       IBM Provides Historical Data to Reflect Offering Realignment              \n",
      "(www.ibm.com)\n",
      "Summary:IBM is updating its reportable segments and in 2020, this segment structure remains consistent . recast revenue in 2019 is approximately $0.3 billion of IBM’s total $77 billion .\n",
      "----------------------------------------------------------------------------------------------------------------------------------\n",
      "\n",
      "------------------------------------------------------------ Article 19 ------------------------------------------------------------\n",
      "Title:                       IBM Transfers a Portion of U.S. Pension Obligations              \n",
      "(www.ibm.com)\n",
      "Summary:on September 13, 2022, IBM filed an 8-K describing the transfer of a portion of its U.S. qualified defined benefit pension plan obligations to The Prudential Insurance Company of America and Metropolitan Life Insurance Company . the\n",
      "----------------------------------------------------------------------------------------------------------------------------------\n",
      "\n",
      "------------------------------------------------------------ Article 20 ------------------------------------------------------------\n",
      "Title:                       IBM to Divest Select Software Products to HCL              \n",
      "(www.ibm.com)\n",
      "Summary:IBM has entered into a definitive agreement with HCL . it will acquire select IBM software products, including collaboration and on-premise marketing and commerce products . this action reflects IBM’s commitment to disciplined portfolio management .\n",
      "----------------------------------------------------------------------------------------------------------------------------------\n",
      "\n"
     ]
    },
    {
     "name": "stderr",
     "output_type": "stream",
     "text": [
      "Your max_length is set to 50, but you input_length is only 48. You might consider decreasing max_length manually, e.g. summarizer('...', max_length=24)\n"
     ]
    },
    {
     "name": "stdout",
     "output_type": "stream",
     "text": [
      "------------------------------------------------------------ Article 21 ------------------------------------------------------------\n",
      "Title: A Data-Driven Method to Reduce Employee Survey Length\n",
      "(towardsdatascience.com)\n",
      "Summary:save Employee surveys are becoming a steadfast aspect of organizational life . in one survey, we can gather information on how our leaders are performing, whether our workforce is motivated, and if employees are thinking about leaving . in step 1, we will utilize an R program (OASIS; Cortina et al., 2020) to select the optimal combination of top ranked items from step 1 to further shorten our scale but maintain maximal reliability and if you are using the practice dataset, some items need to be recoded . for this method, you should only work on one measure or ‘scale’ at a time . this includes standard deviation, skew filters allow us to filter out undesirable item-level statistics and prevent these items from making it to the final selection ranking stage . this prevents items that have extremely poor definitional correspondence from being a top ranked item . the OASIS calculator runs multiple combinations of our items . it determines which combination of items results in the highest level of reliability . cronbach’s alpha and omega are the main reliability indices . this method provides users a robust data-driven approach to substantially reduce their employee survey length . this method can ultimately improve data quality, respondent dropout, and save employee time . Yammarino, S. Skinner and T. Childers, Understanding Mail Survey Response Behavior a Meta-Analysis (1991), public opinion Quarterly, 55(4), 613–639.\n",
      "----------------------------------------------------------------------------------------------------------------------------------\n",
      "\n",
      "------------------------------------------------------------ Article 22 ------------------------------------------------------------\n",
      "Title: Using Fourier Transform of Vector Representations Derived from BERT Embeddings for Semantic Closeness Evaluation\n",
      "(towardsdatascience.com)\n",
      "Summary:save BERT embedding is the thing that provides great opportunities when it comes to programmatic ways of extracting meaning from text . it seems everything we (as well as machines) need to make sense of the text is hidden in the orange and Adventure modifiers are not supposed to be that close either . we can divide contextual embeddings by the corresponding initial embeddeds . for analysis purposes, you might also want to create another set of representations \n",
      "----------------------------------------------------------------------------------------------------------------------------------\n",
      "\n",
      "------------------------------------------------------------ Article 23 ------------------------------------------------------------\n",
      "Title: Defining Interpretable Features\n",
      "(towardsdatascience.com)\n",
      "Summary:researchers at the data to AI group at MIT released a paper called “The Need for Interpretable Features: Motivation and Taxonomy” [1] . the paper contributes a categorization of stakeholders, real the authors used SHAP values to explain feature contributions . but quickly found that SHAP explanations alone were not enough . the authors found that features based on aggregation functions are not as interpretable . despite these criticisms, it is undeniable that Zytek et al. provided a lot of information about what makes features interpretable, how to achieve interpretability, and why it is important .\n",
      "----------------------------------------------------------------------------------------------------------------------------------\n",
      "\n",
      "------------------------------------------------------------ Article 24 ------------------------------------------------------------\n",
      "Title: Julia vs Librosa vs TorchAudio for Audio Data Processing\n",
      "(towardsdatascience.com)\n",
      "Summary:the most widely used framework for audio data processing is a combination of the two Python libraries NumPy and Librosa . in 2019, PyTorch released a library called TorchAudio . TorchAudio is reliably more than 10x as fast as Librosa . it seems that Julia starts to take the lead at around 33k examples . Librosa should never be used, TorchAudio should be used for small or medium-sized datasets . Julia should be exchanging parts of your code with librosa functionalities .\n",
      "----------------------------------------------------------------------------------------------------------------------------------\n",
      "\n",
      "------------------------------------------------------------ Article 25 ------------------------------------------------------------\n",
      "Title: Analysing NYC Yellow Taxi Trip Records with InterpretML\n",
      "(towardsdatascience.com)\n",
      "Summary:save interpretML is an interpretable machine learning library designed by Microsoft . it is designed to make machine learning models more understandable and open to human interpretation . the dataset was sourced using Azure Open Data . the goal in this instance is to use InterpretML to get a better understanding of the data . to conduct the analysis, the relevant libraries are imported and a train-test split is performed across the dataset . both global and local the full code for accomplishing this is available at the DiCE repository . the result variable is no higher than 1 and the trip distance is shorter than 1. 0 in all instances .\n",
      "----------------------------------------------------------------------------------------------------------------------------------\n",
      "\n",
      "------------------------------------------------------------ Article 26 ------------------------------------------------------------\n",
      "Title: Will a Training Break Ruin my Marathon?\n",
      "(towardsdatascience.com)\n",
      "Summary:the most recent Dublin Marathon (2022) saw almost 10,000 of its 25,000 registered runners failing to turn up on the day . a more reliable no-show estimate for Dublin might be closer to 20% in a ‘regular’ a training disruption is simply an extended period — several consecutive days — without any logged training activities . it is reasonable to expect some short training disruptions due to routine recovery days during weekly training . the drop-out rate for runners experiencing late disruptions might be higher than for early disruptions . this analysis may have underestimated the proportion of runners experiencing early and late disruption . the good news is that they don’t necessarily spell male runners with a 21–27 day training disruption increased their finish times by almost 8% . for similarly disrupted female runners, the cost was just over 4% . the biggest cost differences were found between fast and slow runners a better understanding of the relationship between training disruptions and finish times should help runners to adjust their race goals and adapt their pacing if their training has been disrupted .\n",
      "----------------------------------------------------------------------------------------------------------------------------------\n",
      "\n",
      "------------------------------------------------------------ Article 27 ------------------------------------------------------------\n",
      "Title: Solve a mystery box like a data scientist\n",
      "(towardsdatascience.com)\n",
      "Summary:a data scientist gets a riddle in form of a box . he will (try) approach it as a problem . it was not as easy as I thought . the box comes into its main operation screen that shows us its only output . the goal is to find the coordinate exactly between these two unknown coordinates . if this location is correct, the box will show the code . the problem is only valid within the flat earth society . we used straight lines for our distances and this would mean that we need to dig tunnels in our spherical world . a plastic box just had the right dimensions so I could put the box in the box . the camera need to be sturdy so the movement between camera and LCD screen was at a minimum . this calls for some serious duct- we have a video that shows all output of the mystery box during the bike ride . to extract the A value, we will train a DONUT based model . the video was record with a frame rate of 30 we will be training a model created by Naver AI Lab . the model is a true end-to-end model . you input an image and you will get a JSON object . we can use our model to infer the labels . the time of each frame is encoded in its filename in seconds . there will be a small mismatch as the difference will be small . the goal is exactly between points p1 and p2 . the deviation from the actual point and the one I found is 93 meters . this could have many reasons .\n",
      "----------------------------------------------------------------------------------------------------------------------------------\n",
      "\n"
     ]
    },
    {
     "name": "stderr",
     "output_type": "stream",
     "text": [
      "Your max_length is set to 50, but you input_length is only 34. You might consider decreasing max_length manually, e.g. summarizer('...', max_length=17)\n"
     ]
    },
    {
     "name": "stdout",
     "output_type": "stream",
     "text": [
      "------------------------------------------------------------ Article 28 ------------------------------------------------------------\n",
      "Title: Analyzing Chess960 Data\n",
      "(towardsdatascience.com)\n",
      "Summary:this post analyzes all the available Chess960 games played in Lichess . the original post was published here . all the images and plots, unless stated otherwise, are by the author . the data is available on Kaggle . you can download, modify and redistribute them without asking for permission . we can compute how probable is for a variation to be better than another . this is, after having seen some data we build a hypothesis of the form variation B is better than variation A . lichess dataset contains more than 13M games, which is 14K games per variation . the dataset contains games for a huge variety of players and time controls . this means we’ll have 900 pairs of in the last section, we have seen how to generate and test hypotheses . but we have also noticed that the performance of some variations changes over time . to do so, we’ve seen that past performances do not guarantee future the number of games with such characteristics is almost zero . not all of them play regular Chess960 in Lichess .\n",
      "----------------------------------------------------------------------------------------------------------------------------------\n",
      "\n",
      "------------------------------------------------------------ Article 29 ------------------------------------------------------------\n",
      "Title: A Framework for Analyzing Churn\n",
      "(towardsdatascience.com)\n",
      "Summary:this article will focus on the implementation of a churn analysis framework . it is inspired by the book: [1]“Fighting Churn with Data” by Carl S. Gold . we have to predict if a client is going to churn, regardless of how many subscriptions they have . the raw data will look like the following: this business context is quite common . a healthy churn prediction model would perform with an AUC score between 0. 6 and 0. 8 . if we see metrics where, regardless of the cohort average value, there’s no impact . we will now use XGBoost is an evolution (“Extreme”) of the “Gradient boosting” methodology . we will now use it to predict the churn probabilities of a test set . by default, all what’s the budget to address the problem? how long should we wait to see the results? can we use any other data to improve our models? what has been done already? Thank you for reading!\n",
      "----------------------------------------------------------------------------------------------------------------------------------\n",
      "\n",
      "------------------------------------------------------------ Article 30 ------------------------------------------------------------\n",
      "Title: 5 Benefits of Data Sharing\n",
      "(towardsdatascience.com)\n",
      "Summary:data sharing is becoming the norm in a lot of organizations, as the pressure to deliver value from data intensifies . if you call it data mesh, data operationalization, data activation, or data democratization, the idea data sharing can power real-time decisions across all departments . data democratization removes traditional bottlenecks in the decision-making process . data sharing is caring, especially when it comes to data . it increases scrutiny and verification of the data’s accuracy and completeness . this leads to greater accountability for data quality and the ability to fix issues .\n",
      "----------------------------------------------------------------------------------------------------------------------------------\n",
      "\n"
     ]
    }
   ],
   "source": [
    "for i in range(len(df)):\n",
    "    title = df[\"title\"][i]\n",
    "    # Remove new lines in title\n",
    "    title = re.sub(\"\\n\", \"\", title)\n",
    "    article = df[\"body text\"][i]\n",
    "    url = df[\"url\"][i]\n",
    "    domain = get_domain(url)\n",
    "    \n",
    "    clean_sents = create_sents(article)\n",
    "    \n",
    "    # filter sentences if from trained site\n",
    "    if domain == \"www.reuters.com\":\n",
    "        index = filter_rel(clean_sents, 'Our Standards: The Thomson Reuters Trust Principles.')\n",
    "        clean_sents = clean_sents[:index]\n",
    "        \n",
    "    elif domain == \"www.ibm.com\":   \n",
    "        clean_sents[0] = re.sub(\"\\n [^>]+ \\n\", \"\", clean_sents[0])\n",
    "        clean_sents[0] = re.sub(\"\\n\", \"\", clean_sents[0])\n",
    "        clean_sents[-1] = re.sub(\" Download a PDF of this article [^>]+\", \"\", clean_sents[-1])\n",
    "    \n",
    "    elif domain == \"towardsdatascience.com\":\n",
    "        clean_sents[0] = re.sub(r\"Sign up Sign In Sign up Sign In Towards Data Science\", \"\", clean_sents[0])\n",
    "        index = filter_rel(clean_sents, \"-- -- Your home for data science.\")\n",
    "        clean_sents = clean_sents[:index]\n",
    "        \n",
    "    chunks = chunker(clean_sents, 500, display = False)\n",
    "    result = summarise_chunks(chunks)\n",
    "    print(\"-\"*60, f\"Article {i+1}\", \"-\"*60)\n",
    "    print(f\"Title: {title}\")\n",
    "    print(f\"({domain})\")\n",
    "    print(f\"Summary:{result}\")\n",
    "    print(\"-\"*130)\n",
    "    print()"
   ]
  },
  {
   "cell_type": "markdown",
   "id": "14870f0d",
   "metadata": {
    "pycharm": {
     "name": "#%% md\n"
    }
   },
   "source": [
    "## Interactive Section:"
   ]
  },
  {
   "cell_type": "code",
   "execution_count": 37,
   "id": "22495d09",
   "metadata": {
    "scrolled": false,
    "pycharm": {
     "name": "#%%\n"
    }
   },
   "outputs": [
    {
     "name": "stdout",
     "output_type": "stream",
     "text": [
      "------------- Interactive URL Summariser -------------\n",
      "(supported websites: Reuters, Towards Data Science, IBM)\n",
      "Enter URL or (q) to quit\n",
      ">>>https://www.channelnewsasia.com/world/move-over-ben-franklin-laser-lightning-rod-electrifies-scientists-3209841\n",
      "----------------------------------------------------------------------------------------------------------------------------------\n",
      "Title: \n",
      "      Move over Ben Franklin: Laser lightning rod electrifies scientists\n",
      "  \n",
      "(www.channelnewsasia.com)\n",
      "Summary: a laser aimed at the sky from atop mount Santis in northeastern Switzerland diverts lightning strikes . the technology could safeguard critical infrastructure including power stations, airports, wind farms and launchpads . lightning rods, dating back to Franklin's time, are metal rods atop buildings . they conduct electric charges lightning strikes harmlessly into the ground . one concern is avoiding interference with airplanes in flight .\n",
      "----------------------------------------------------------------------------------------------------------------------------------\n",
      "\n",
      "Enter URL or (q) to quit\n",
      ">>>https://www.channelnewsasia.com/sport/aff-cup-thailand-vietnam-football-final-asean-mitsubishi-electric-3209371\n",
      "----------------------------------------------------------------------------------------------------------------------------------\n",
      "Title: \n",
      "      AFF Cup: Thailand crowned kings of ASEAN football once again with 7th title\n",
      "  \n",
      "(www.channelnewsasia.com)\n",
      "Summary: Thailand beat Vietnam 1-0 in the second leg of the 2022 ASEAN Football Federation (AFF) Mitsubishi Electric Cup final on monday (Jan 16) captain Theeraton Bunmathan scored with a stunning 24th minute upgrade to a supported browser or, for the finest experience, download the mobile app .\n",
      "----------------------------------------------------------------------------------------------------------------------------------\n",
      "\n",
      "Enter URL or (q) to quit\n",
      ">>>q\n"
     ]
    }
   ],
   "source": [
    "print(\"------------- Interactive URL Summariser -------------\")\n",
    "print(\"(supported websites: Reuters, Towards Data Science, IBM)\")\n",
    "print(\"Enter URL or (q) to quit\")\n",
    "url = str(input(\">>>\"))\n",
    "while url.lower() != \"q\":\n",
    "    # Webscrapping \n",
    "    page = requests.get(url)\n",
    "    soup = BeautifulSoup(page.text, \"html.parser\") \n",
    "    title = soup.find(\"h1\").text # get title\n",
    "    parsed_body = soup.find_all(\"p\") # get body\n",
    "    article = \" \".join([i.text for i in parsed_body])\n",
    "    \n",
    "    # Summarisation\n",
    "    domain = get_domain(url)\n",
    "    clean_sents = create_sents(article)\n",
    "    \n",
    "    # filter sentences if from trained site\n",
    "    if domain == \"www.reuters.com\":\n",
    "        index = filter_rel(clean_sents, 'Our Standards: The Thomson Reuters Trust Principles.')\n",
    "        clean_sents = clean_sents[:index]\n",
    "        \n",
    "    elif domain == \"www.ibm.com\":   \n",
    "        clean_sents[0] = re.sub(\"\\n [^>]+ \\n\", \"\", clean_sents[0])\n",
    "        clean_sents[0] = re.sub(\"\\n\", \"\", clean_sents[0])\n",
    "        clean_sents[-1] = re.sub(\" Download a PDF of this article [^>]+\", \"\", clean_sents[-1])\n",
    "    \n",
    "    elif domain == \"towardsdatascience.com\":\n",
    "        clean_sents[0] = re.sub(r\"Sign up Sign In Sign up Sign In Towards Data Science\", \"\", clean_sents[0])\n",
    "        index = filter_rel(clean_sents, \"-- -- Your home for data science.\")\n",
    "        clean_sents = clean_sents[:index]\n",
    "    \n",
    "    chunks = chunker(clean_sents, 500, display = False)\n",
    "    result = summarise_chunks(chunks)\n",
    "    \n",
    "    print(\"-\"*130)\n",
    "    print(f\"Title: {title}\")\n",
    "    print(f\"({domain})\")\n",
    "    print(f\"Summary: {result}\")\n",
    "    print(\"-\"*130)\n",
    "    print()\n",
    "    print(\"Enter URL or (q) to quit\")\n",
    "    url = input(\">>>\")"
   ]
  }
 ],
 "metadata": {
  "celltoolbar": "Raw Cell Format",
  "kernelspec": {
   "display_name": "Python 3 (ipykernel)",
   "language": "python",
   "name": "python3"
  },
  "language_info": {
   "codemirror_mode": {
    "name": "ipython",
    "version": 3
   },
   "file_extension": ".py",
   "mimetype": "text/x-python",
   "name": "python",
   "nbconvert_exporter": "python",
   "pygments_lexer": "ipython3",
   "version": "3.9.13"
  }
 },
 "nbformat": 4,
 "nbformat_minor": 5
}